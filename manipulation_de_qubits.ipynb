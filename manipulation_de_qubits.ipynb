{
 "cells": [
  {
   "cell_type": "markdown",
   "metadata": {},
   "source": [
    "# Superposition  et manipulation des qubits"
   ]
  },
  {
   "cell_type": "markdown",
   "metadata": {},
   "source": [
    "### Crédit Agricole : Ateliers Quantiques 2025\n",
    "#### Atelier 2 — Partie 1"
   ]
  },
  {
   "cell_type": "markdown",
   "metadata": {},
   "source": [
    "## Motivation\n",
    "\n",
    "L’objectif de ce tutoriel est de montrer comment un ordinateur quantique peut stocker des informations encodées sous forme de chaînes de bits en utilisant significativement moins de qubits que de bits classiques. Cela est rendu possible grâce à **l’effet de superposition**. Nous allons expliquer ce concept à travers un exemple concret."
   ]
  },
  {
   "cell_type": "code",
   "execution_count": 1,
   "metadata": {},
   "outputs": [],
   "source": [
    "from qiskit import QuantumCircuit, ClassicalRegister, QuantumRegister\n",
    "from qiskit_aer import AerSimulator\n",
    "from qiskit.visualization import plot_histogram\n",
    "import numpy as np\n",
    "import math\n",
    "import matplotlib.pyplot as plt\n",
    "\n",
    "# Use Aer's simulator\n",
    "backend = AerSimulator()\n",
    "backend_vec = AerSimulator(method='statevector')\n"
   ]
  },
  {
   "cell_type": "markdown",
   "metadata": {},
   "source": [
    "## Bit vs Qubit\n",
    "\n",
    "Un bit classique peut stocker et manipuler deux états : `0` et `1`. Ces deux états correspondent aux deux états de base (orthonormés) d’un qubit :\n",
    "\n",
    "\\$ \\left| 0 \\right\\rangle = {\\begin{bmatrix}1 \\ 0\\end{bmatrix}} \\$,\n",
    "\n",
    "\\$ \\left| 1 \\right\\rangle = {\\begin{bmatrix}0 \\ 1\\end{bmatrix}} \\$.\n",
    "\n",
    "En réalité, l’état d’un qubit est représenté par une *superposition linéaire* de ces deux états de base :\n",
    "\n",
    "\\$ \\left| q \\right\\rangle = \\alpha \\left|0\\right\\rangle + \\beta \\left|1\\right\\rangle \\$,\n",
    "ce qui peut s’écrire\n",
    "\\$ \\left|q\\right\\rangle = {\\begin{bmatrix}\\alpha \\ 0\\end{bmatrix}} +  {\\begin{bmatrix}0 \\ \\beta \\end{bmatrix}} =  {\\begin{bmatrix} \\alpha \\ \\beta \\end{bmatrix}} \\$.\n",
    "\n",
    "Les coefficients \\$ \\alpha \\$ et \\$ \\beta \\$ sont appelés amplitudes de probabilité et sont des nombres complexes. La formule \\$|\\alpha|^2\\$ donne la probabilité que le qubit soit mesuré dans l’état \\$\\left| 0 \\right\\rangle\\$. Ces coefficients doivent satisfaire la condition de normalisation \\$|\\alpha|^2 + |\\beta|^2  = 1\\$ pour que la somme des probabilités soit égale à 1.\n",
    "\n",
    "Ainsi, un qubit peut exister dans une *superposition* d’états. Lors de la mesure, on ne peut observer qu’un seul état, mais cette mesure est gouvernée par les probabilités associées à chaque composante. En informatique quantique, en plus des états de base \\$\\left| 0 \\right\\rangle\\$ et \\$\\left| 1 \\right\\rangle\\$, on utilise souvent les états en superposition notés \\$\\left| + \\right\\rangle\\$, \\$\\left| - \\right\\rangle\\$. Dans ces états, les probabilités sont égales (\\$|\\alpha|^2 = 0{,}5\\$ et \\$|\\beta|^2 = 0{,}5\\$), ce qui signifie que le qubit a autant de chances d’être mesuré dans l’état \\$\\left| 0 \\right\\rangle\\$ que dans l’état \\$\\left| 1 \\right\\rangle\\$. Tout état pour lequel \\$\\alpha\\$ et \\$\\beta\\$ sont non nuls est un état de superposition. Il existe aussi des états dits mixtes qui ne peuvent pas être décrits par un seul vecteur ket, mais nécessitent des matrices.\n",
    "\n",
    "On peut faire passer un qubit de l’état \\$\\left| 0 \\right\\rangle\\$ à l’état \\$\\left| + \\right\\rangle\\$, puis revenir à \\$\\left| 0 \\right\\rangle\\$ en appliquant une *porte de Hadamard*. Il n’existe pas d’opération équivalente pour les bits classiques, qui ne peuvent exister que dans deux états distincts : `0` ou `1`.\n"
   ]
  },
  {
   "cell_type": "markdown",
   "metadata": {},
   "source": [
    "### Mathématiques\n",
    "\n",
    "La porte de Hadamard est représentée par la matrice :\n",
    "\n",
    "\\$H =  \\frac{1}{\\sqrt{2}} {\\begin{bmatrix}1 & 1\\\\1 & -1\\end{bmatrix}}\\$.\n",
    "\n",
    "Pour créer un état de superposition à partir de l’état \\$\\left| 0 \\right\\rangle\\$, il suffit de multiplier les matrices :\n",
    "\n",
    "\\$ H\\left| 0 \\right\\rangle\n",
    "\\= \\frac{1}{\\sqrt{2}} {\\begin{bmatrix}1 & 1\\\\1 & -1\\end{bmatrix}} {\\begin{bmatrix}1 \\\\0\\end{bmatrix}}\n",
    "\\= \\frac{1}{\\sqrt{2}} {\\begin{bmatrix}1\\cdot1 + 1\\cdot0 \\ 1\\cdot1 -1\\cdot0\\end{bmatrix}}\n",
    "\\=  {\\begin{bmatrix}0{,}7071 \\ 0{,}7071\\end{bmatrix}}\n",
    "\\= \\left| + \\right\\rangle\n",
    "\\$,\n",
    "\n",
    "ce qui donne \\$\\alpha = 0{,}7071\\$ et \\$\\beta = 0{,}7071\\$. En élevant ces valeurs au carré, on obtient une probabilité de \\$0{,}5\\$ que le qubit soit mesuré dans l’état \\$\\left| 0 \\right\\rangle\\$, et \\$0{,}5\\$ pour l’état \\$\\left| 1 \\right\\rangle\\$.\n",
    "\n",
    "On peut bien sûr revenir à l’état \\$\\left| 0 \\right\\rangle\\$ en appliquant à nouveau la porte de Hadamard :\n",
    "\n",
    "\\$ H\\left| + \\right\\rangle\n",
    "\\= \\frac{1}{\\sqrt{2}} {\\begin{bmatrix}1 & 1\\\\1 & -1\\end{bmatrix}} {\\begin{bmatrix}\\frac{1}{\\sqrt{2}}  \\\\\\frac{1}{\\sqrt{2}} \\end{bmatrix}}\n",
    "\\= {\\begin{bmatrix}1 \\ 0\\end{bmatrix}}\n",
    "\\= \\left| 0 \\right\\rangle\n",
    "\\$\n"
   ]
  },
  {
   "cell_type": "markdown",
   "metadata": {},
   "source": [
    "### Classique"
   ]
  },
  {
   "cell_type": "code",
   "execution_count": 2,
   "metadata": {},
   "outputs": [
    {
     "name": "stdout",
     "output_type": "stream",
     "text": [
      "Initial state |0> \n",
      " [[1.]\n",
      " [0.]] \n",
      "\n",
      " H|0> = |+> \n",
      " [[0.70710678]\n",
      " [0.70710678]]\n",
      "\n",
      " H|+> = |0> \n",
      " [[1.00000000e+00]\n",
      " [2.23711432e-17]]\n"
     ]
    }
   ],
   "source": [
    "# |0>\n",
    "Zero = np.array([[1.],\n",
    "                 [0.]]) \n",
    "\n",
    "H = 1./np.sqrt(2) * np.array([[1, 1],\n",
    "                              [1, -1]])\n",
    "\n",
    "print(\"Initial state |0> \\n %s \" % Zero)\n",
    "\n",
    "Sup = np.dot(H, Zero)\n",
    "print(\"\\n H|0> = |+> \\n %s\" % Sup)\n",
    "\n",
    "Back = np.dot(H, Sup)\n",
    "print(\"\\n H|+> = |0> \\n %s\" % Back)\n"
   ]
  },
  {
   "cell_type": "markdown",
   "metadata": {},
   "source": [
    "### Quantum"
   ]
  },
  {
   "cell_type": "code",
   "execution_count": 3,
   "metadata": {
    "scrolled": true
   },
   "outputs": [
    {
     "name": "stdout",
     "output_type": "stream",
     "text": [
      "    ┌───┐\n",
      "q0: ┤ H ├\n",
      "    └───┘\n"
     ]
    }
   ],
   "source": [
    "q1 = QuantumRegister(1) # Qubit in the |0> state.\n",
    "circ = QuantumCircuit(q1) # Circuit represents a quantum program.\n",
    "\n",
    "circ.h(q1) # H|0>\n",
    "\n",
    "print(circ)"
   ]
  },
  {
   "cell_type": "code",
   "execution_count": 4,
   "metadata": {},
   "outputs": [
    {
     "name": "stdout",
     "output_type": "stream",
     "text": [
      "{'0': 514, '1': 510}\n"
     ]
    }
   ],
   "source": [
    "# To get final results from the qubit we need a classical register to store measurements\n",
    "c1 = ClassicalRegister(1) \n",
    "circ.add_register(c1)\n",
    "circ.measure(q1, c1)\n",
    "\n",
    "job = backend.run(circ, shots=1024)\n",
    "result = job.result()\n",
    "print(result.get_counts())\n"
   ]
  },
  {
   "cell_type": "markdown",
   "metadata": {},
   "source": [
    "En analysant le résultat du programme quantique, on peut observer combien de fois les états \\$\\left| 1 \\right\\rangle\\$ et \\$\\left| 0 \\right\\rangle\\$ ont été mesurés. On constate que les deux états ont été mesurés un nombre de fois quasiment égal.\n",
    "\n",
    "Voyons maintenant si l’utilisation de deux portes de Hadamard (H) nous ramène à l’état initial :"
   ]
  },
  {
   "cell_type": "code",
   "execution_count": 5,
   "metadata": {},
   "outputs": [
    {
     "name": "stdout",
     "output_type": "stream",
     "text": [
      "    ┌───┐┌───┐\n",
      "q0: ┤ H ├┤ H ├\n",
      "    └───┘└───┘\n"
     ]
    }
   ],
   "source": [
    "circ = QuantumCircuit(q1)\n",
    "\n",
    "circ.h(q1) # H|0>\n",
    "circ.h(q1) # H|+>\n",
    "\n",
    "print(circ)"
   ]
  },
  {
   "cell_type": "code",
   "execution_count": 6,
   "metadata": {},
   "outputs": [
    {
     "name": "stdout",
     "output_type": "stream",
     "text": [
      "{'0': 1024}\n",
      "Statevector([1.-6.123234e-17j, 0.+0.000000e+00j],\n",
      "            dims=(2,))\n"
     ]
    }
   ],
   "source": [
    "circ.add_register(c1)\n",
    "circ.measure(q1, c1)\n",
    "circ.save_statevector()\n",
    "\n",
    "job = backend.run(circ, shots=1024)\n",
    "result = job.result()\n",
    "print(result.get_counts())\n",
    "print(result.get_statevector(circ))"
   ]
  },
  {
   "cell_type": "markdown",
   "metadata": {},
   "source": [
    "Cette fois, seul l’état \\$\\left| 0 \\right\\rangle\\$ a été mesuré. Le qubit est donc revenu dans l’état \\$\\left| 0 \\right\\rangle\\$."
   ]
  },
  {
   "cell_type": "markdown",
   "metadata": {},
   "source": [
    "Pour un bit classique, il n’existe aucune possibilité de le basculer dans un *état superposé* (ou mixte) puis de revenir à son état initial. Cela nous donne un indice précieux : un ordinateur quantique permet d’exploiter un plus grand nombre d’états, en utilisant moins de ressources, pour exécuter des algorithmes."
   ]
  },
  {
   "cell_type": "markdown",
   "metadata": {},
   "source": [
    "## Inversion de bit\n",
    "\n",
    "Avant d'aller plus loin, il est utile de découvrir une autre porte quantique fondamentale : la *porte de Pauli-X*. Elle inverse l'état d'un qubit, passant de \\$\\left| 0 \\right\\rangle\\$ à \\$\\left| 1 \\right\\rangle\\$ (et vice versa). Son équivalent dans l'informatique classique est la porte logique **NOT**.\n",
    "\n",
    "Elle est représentée par la matrice suivante :\n",
    "\n",
    "$$\n",
    "X = {\\begin{bmatrix}0 & 1\\\\1 & 0\\end{bmatrix}}\n",
    "$$\n",
    "\n",
    "### Mathématiquement :\n",
    "\n",
    "$$\n",
    "X\\left| 0 \\right\\rangle = {\\begin{bmatrix}0 & 1\\\\1 & 0\\end{bmatrix}} {\\begin{bmatrix}1 \\\\ 0\\end{bmatrix}} = {\\begin{bmatrix}0 \\\\ 1 \\end{bmatrix}} = \\left| 1 \\right\\rangle\n",
    "$$\n",
    "\n",
    "Ainsi, la porte X permet de simuler un changement d’état binaire, mais dans le cadre des qubits."
   ]
  },
  {
   "cell_type": "markdown",
   "metadata": {},
   "source": [
    "### Classique"
   ]
  },
  {
   "cell_type": "code",
   "execution_count": 7,
   "metadata": {},
   "outputs": [
    {
     "data": {
      "text/plain": [
       "array([[0.],\n",
       "       [1.]])"
      ]
     },
     "execution_count": 7,
     "metadata": {},
     "output_type": "execute_result"
    }
   ],
   "source": [
    "X = np.array([[0, 1],\n",
    "              [1, 0]])\n",
    "\n",
    "np.dot(X, Zero)"
   ]
  },
  {
   "cell_type": "markdown",
   "metadata": {},
   "source": [
    "### Quantum"
   ]
  },
  {
   "cell_type": "code",
   "execution_count": 8,
   "metadata": {},
   "outputs": [
    {
     "name": "stdout",
     "output_type": "stream",
     "text": [
      "    ┌───┐\n",
      "q0: ┤ X ├\n",
      "    └───┘\n"
     ]
    }
   ],
   "source": [
    "circ = QuantumCircuit(q1)\n",
    "circ.x(q1)\n",
    "print(circ)"
   ]
  },
  {
   "cell_type": "code",
   "execution_count": 9,
   "metadata": {},
   "outputs": [
    {
     "name": "stdout",
     "output_type": "stream",
     "text": [
      "{'1': 1024}\n",
      "Statevector([0.+0.j, 1.+0.j],\n",
      "            dims=(2,))\n"
     ]
    }
   ],
   "source": [
    "circ.add_register(c1)\n",
    "circ.measure(q1, c1)\n",
    "circ.save_statevector()\n",
    "\n",
    "result = backend.run(circ, shots=1024).result()\n",
    "\n",
    "# Get measurement counts\n",
    "counts = result.get_counts()\n",
    "print(counts)\n",
    "print(result.get_statevector(circ))"
   ]
  },
  {
   "cell_type": "markdown",
   "metadata": {},
   "source": [
    "## Construction des qubytes\n",
    "\n",
    "Pour stocker davantage d’informations, on peut combiner plusieurs qubits afin de former ce qu’on appelle des *qubytes*. C’est similaire à ce qu’on fait avec les bits classiques. Mais, comme vous allez le voir, un qubyte de même taille peut contenir beaucoup plus d’informations qu’un octet classique.\n",
    "\n",
    "En utilisant deux qubits, nous pouvons construire des états comme : \\$\\left| 00 \\right\\rangle\\$, \\$\\left| 10 \\right\\rangle\\$, \\$\\left| 0+ \\right\\rangle\\$, etc. Pour cela, on effectue le *produit tensoriel* de deux qubits.\n",
    "\n",
    "### Mathématiques\n",
    "\n",
    "$$\n",
    "\\left| 01 \\right\\rangle = \\left| 0 \\right\\rangle \\otimes \\left| 1 \\right\\rangle \n",
    "= {\\begin{bmatrix}1 \\\\ 0\\end{bmatrix}} \\otimes {\\begin{bmatrix}0 \\\\ 1\\end{bmatrix}} \n",
    "= {\\begin{bmatrix}1 \\\\ 0\\end{bmatrix}}  {\\begin{bmatrix}0 \\\\ 1\\end{bmatrix}}^{T}\n",
    "= {\\begin{bmatrix}1 \\\\ 0\\end{bmatrix}} {\\begin{bmatrix}0 & 1\\end{bmatrix}}\n",
    "= {\\begin{bmatrix}0\\\\ 1 \\\\ 0 \\\\ 0\\end{bmatrix}} \n",
    "$$\n"
   ]
  },
  {
   "cell_type": "markdown",
   "metadata": {},
   "source": [
    "### Classique"
   ]
  },
  {
   "cell_type": "code",
   "execution_count": 10,
   "metadata": {},
   "outputs": [
    {
     "data": {
      "text/plain": [
       "array([[0.],\n",
       "       [1.],\n",
       "       [0.],\n",
       "       [0.]])"
      ]
     },
     "execution_count": 10,
     "metadata": {},
     "output_type": "execute_result"
    }
   ],
   "source": [
    "One = np.array([[0.],\n",
    "                [1.]]) \n",
    "\n",
    "# Tensor product (Kronecker prodcut in numpy)\n",
    "np.kron(Zero, One)"
   ]
  },
  {
   "cell_type": "markdown",
   "metadata": {},
   "source": [
    "### Quantum"
   ]
  },
  {
   "cell_type": "code",
   "execution_count": 11,
   "metadata": {},
   "outputs": [
    {
     "name": "stdout",
     "output_type": "stream",
     "text": [
      "      ┌───┐\n",
      "q1_0: ┤ X ├\n",
      "      └───┘\n",
      "q1_1: ─────\n",
      "           \n"
     ]
    }
   ],
   "source": [
    "q2 = QuantumRegister(2) # |00>\n",
    "circ = QuantumCircuit(q2)\n",
    "circ.x(q2[0]) # bit filp on a first qubit (right to left - little endian)\n",
    "\n",
    "print(circ)"
   ]
  },
  {
   "cell_type": "code",
   "execution_count": 12,
   "metadata": {},
   "outputs": [
    {
     "name": "stdout",
     "output_type": "stream",
     "text": [
      "{'01': 1024}\n",
      "Statevector([0.+0.j, 1.+0.j, 0.+0.j, 0.+0.j],\n",
      "            dims=(2, 2))\n"
     ]
    }
   ],
   "source": [
    "# Add measurement & Run\n",
    "c2 = ClassicalRegister(2)\n",
    "circ.add_register(c2)\n",
    "circ.measure(q2, c2)\n",
    "circ.save_statevector()\n",
    "\n",
    "result = backend.run(circ, shots=1024).result()\n",
    "\n",
    "print(result.get_counts())\n",
    "print(result.get_statevector(circ))"
   ]
  },
  {
   "cell_type": "markdown",
   "metadata": {},
   "source": [
    "Initialiser des états plus complexes peut être une tâche fastidieuse. Pour cette raison, on peut utiliser la fonction `initialize()` qui génère automatiquement la séquence de portes quantiques appropriée pour créer l’état souhaité."
   ]
  },
  {
   "cell_type": "code",
   "execution_count": 13,
   "metadata": {},
   "outputs": [
    {
     "name": "stdout",
     "output_type": "stream",
     "text": [
      "      ┌──────────────────────┐\n",
      "q1_0: ┤0                     ├\n",
      "      │  Initialize(0,1,0,0) │\n",
      "q1_1: ┤1                     ├\n",
      "      └──────────────────────┘\n"
     ]
    }
   ],
   "source": [
    "circ = QuantumCircuit(q2)\n",
    "circ.initialize([0., 1, 0, 0.], q2)\n",
    "\n",
    "print(circ)\n"
   ]
  },
  {
   "cell_type": "code",
   "execution_count": 14,
   "metadata": {},
   "outputs": [
    {
     "name": "stdout",
     "output_type": "stream",
     "text": [
      "global phase: 13π/8\n",
      "           ┌──────────────────┐┌───┐┌─────────────────────┐\n",
      "q1_0: ─|0>─┤ U(π,-13π/8,-π/8) ├┤ X ├┤ U(0,1.5657,-1.5657) ├\n",
      "           └──────────────────┘└─┬─┘└─────────────────────┘\n",
      "q1_1: ─|0>───────────────────────■─────────────────────────\n",
      "                                                           \n"
     ]
    }
   ],
   "source": [
    "from qiskit import transpile\n",
    "decomposed_transpiled = transpile(circ, basis_gates=['u', 'cx'], optimization_level=0)\n",
    "print(decomposed_transpiled.draw('text'))"
   ]
  },
  {
   "cell_type": "markdown",
   "metadata": {},
   "source": [
    "On peut voir que la fonction a utilisé des portes CNOT et Ry, mais l'effet obtenu reste le même."
   ]
  },
  {
   "cell_type": "code",
   "execution_count": 15,
   "metadata": {},
   "outputs": [
    {
     "name": "stdout",
     "output_type": "stream",
     "text": [
      "{'01': 1024}\n"
     ]
    }
   ],
   "source": [
    "\n",
    "c2 = ClassicalRegister(2)\n",
    "circ.add_register(c2)\n",
    "circ.measure(q2, c2)\n",
    "result = backend.run(circ, shots=1024).result()\n",
    "\n",
    "print(result.get_counts())"
   ]
  },
  {
   "cell_type": "markdown",
   "metadata": {},
   "source": [
    "La fonction `initialize()` implémente un algorithme récursif d’initialisation conformément à l’article [\"Synthesis of Quantum Logic Circuits\" de Shende, Bullock et Markov](https://arxiv.org/abs/quant-ph/0406176v5)."
   ]
  },
  {
   "cell_type": "markdown",
   "metadata": {},
   "source": [
    "## Compression de chaînes de bits dans des qubits grâce à l'effet de superposition\n",
    "\n",
    "Dans cette section, nous allons essayer de stocker la chaîne de bits `1001` dans une puce quantique, puis de la relire. Dans ce cas précis, l’avantage d’utiliser des qubits à la place de bits classiques n’est pas encore spectaculaire, mais travailler sur une chaîne courte permettra de mieux saisir le concept."
   ]
  },
  {
   "cell_type": "markdown",
   "metadata": {},
   "source": [
    "Pour stocker une chaîne de bits `1001` dans un ordinateur classique, il nous faut utiliser 4 bits.\n",
    "Pour le même objectif dans un ordinateur quantique, seulement 3 qubits suffisent.\n",
    "Pour tirer parti de cet avantage, il faut adopter une représentation qui permet de **stocker plusieurs états dans le même qubyte** — ce qui est impossible avec des bits classiques.\n",
    "\n",
    "La solution consiste à écrire la chaîne de bits dans une notation où les premiers qubits représentent la position (adresse) dans la chaîne, et le dernier qubit représente la valeur à cette position. Pour notre exemple `1001`, cela donne :\n",
    "\n",
    "```\n",
    "   bs | aa v \n",
    "  ----|-------\n",
    "    1 | 00 1  # la première position  (00) contient 1\n",
    "    0 | 01 0  # la deuxième position  (01) contient 0\n",
    "    0 | 10 0\n",
    "    1 | 11 1\n",
    "```\n",
    "\n",
    "Les deux premiers qubits `aa` représentent l'adresse, et le troisième qubit `v` la valeur à cette adresse.\n",
    "Nous allons encoder ces **quatre paires adresse-valeur simultanément** dans la puce quantique. Cela serait impossible avec des bits classiques, car ils ne permettent d’accéder qu’à une seule adresse à la fois.\n",
    "\n",
    "D’après le tableau, on voit que 3 qubits (`aav`) suffisent pour stocker l’information correspondant aux quatre états\n",
    "(\\$\\left| 001 \\right\\rangle\\$, \\$\\left| 010 \\right\\rangle\\$, \\$\\left| 100 \\right\\rangle\\$, \\$\\left| 111 \\right\\rangle\\$) qui décrivent notre chaîne binaire.\n",
    "Ces états seront encodés dans la puce quantique avec la même amplitude de probabilité :\n",
    "\n",
    "$$\n",
    "\\left| bs \\right\\rangle = \\alpha \\left| 001 \\right\\rangle + \\alpha \\left| 010 \\right\\rangle + \\alpha \\left| 100 \\right\\rangle + \\alpha \\left| 111 \\right\\rangle\n",
    "$$\n",
    "\n",
    "Les autres états non représentés (comme \\$\\left| 000 \\right\\rangle\\$) auront une amplitude nulle (\\$\\beta = 0\\$). On peut donc écrire l’état quantique complet :\n",
    "\n",
    "$$\n",
    "|bs\\rangle = \\beta \\left| 000 \\right\\rangle + \\alpha \\left| 001 \\right\\rangle + \\alpha \\left| 010 \\right\\rangle + \\beta \\left| 011 \\right\\rangle + \\alpha \\left| 100 \\right\\rangle + \\beta \\left| 101 \\right\\rangle + \\beta \\left| 110 \\right\\rangle + \\alpha \\left| 111 \\right\\rangle\n",
    "$$\n",
    "\n",
    "Sachant que les amplitudes doivent respecter la contrainte de normalisation, on en déduit ici que \\$\\alpha = \\frac{1}{2}\\$.\n",
    "\n",
    "**En résumé**, à l’aide des portes quantiques, nous devons préparer notre système de façon à ce qu’après mesure, seuls les états\n",
    "\\$\\left| 001 \\right\\rangle\\$, \\$\\left| 010 \\right\\rangle\\$, \\$\\left| 100 \\right\\rangle\\$, \\$\\left| 111 \\right\\rangle\\$\n",
    "apparaissent avec une probabilité équivalente."
   ]
  },
  {
   "cell_type": "code",
   "execution_count": 16,
   "metadata": {
    "scrolled": true
   },
   "outputs": [
    {
     "name": "stdout",
     "output_type": "stream",
     "text": [
      "      ┌──────────────────────────────────────┐\n",
      "q2_0: ┤0                                     ├\n",
      "      │                                      │\n",
      "q2_1: ┤1 Initialize(0,0.5,0.5,0,0.5,0,0,0.5) ├\n",
      "      │                                      │\n",
      "q2_2: ┤2                                     ├\n",
      "      └──────────────────────────────────────┘\n",
      "c3: 3/════════════════════════════════════════\n",
      "                                              \n"
     ]
    }
   ],
   "source": [
    "q3 = QuantumRegister(3)\n",
    "c3 = ClassicalRegister(3)\n",
    "circ = QuantumCircuit(q3, c3)\n",
    "\n",
    "alpha = .5\n",
    "beta = .0\n",
    "circ.initialize([beta, alpha, alpha, beta, alpha, beta, beta, alpha], q3)\n",
    "\n",
    "print(circ)"
   ]
  },
  {
   "cell_type": "code",
   "execution_count": 17,
   "metadata": {},
   "outputs": [
    {
     "name": "stdout",
     "output_type": "stream",
     "text": [
      "global phase: 3π/4\n",
      "           ┌─────────────────┐┌───┐┌──────────────┐┌───┐┌─────────────────┐»\n",
      "q2_0: ─|0>─┤ U(π/2,-2π,-π/2) ├┤ X ├┤ U(π/2,π,π/2) ├┤ X ├┤ U(π/2,-π/2,π/2) ├»\n",
      "           └──┬────────────┬─┘└─┬─┘└──────────────┘└─┬─┘└─────────────────┘»\n",
      "q2_1: ─|0>────┤ U(π/2,0,0) ├────■────────────────────┼─────────────────────»\n",
      "              ├────────────┤                         │                     »\n",
      "q2_2: ─|0>────┤ U(π/2,0,0) ├─────────────────────────■─────────────────────»\n",
      "              └────────────┘                                               »\n",
      "c3: 3/═════════════════════════════════════════════════════════════════════»\n",
      "                                                                           »\n",
      "«      ┌───┐┌───────────────────────┐\n",
      "«q2_0: ┤ X ├┤ U(0,-5.4065,-0.87673) ├\n",
      "«      └─┬─┘└───────────────────────┘\n",
      "«q2_1: ──■───────────────────────────\n",
      "«                                    \n",
      "«q2_2: ──────────────────────────────\n",
      "«                                    \n",
      "«c3: 3/══════════════════════════════\n",
      "«                                    \n"
     ]
    }
   ],
   "source": [
    "decomposed_transpiled = transpile(circ, basis_gates=['u', 'cx'], optimization_level=0)\n",
    "print(decomposed_transpiled.draw('text'))"
   ]
  },
  {
   "cell_type": "markdown",
   "metadata": {},
   "source": [
    "Ci-dessus, nous pouvons voir une composition de portes quantiques nécessaire pour configurer les qubits de manière à représenter notre chaîne de bits.\n",
    "Pour vérifier que cette séquence met bien en place l’état souhaité, nous devons ajouter une mesure à la fin du circuit, puis exécuter le programme quantique (le circuit quantique)."
   ]
  },
  {
   "cell_type": "code",
   "execution_count": 18,
   "metadata": {},
   "outputs": [
    {
     "data": {
      "image/png": "[encoded data removed]",
      "text/plain": [
       "<Figure size 640x480 with 1 Axes>"
      ]
     },
     "execution_count": 18,
     "metadata": {},
     "output_type": "execute_result"
    }
   ],
   "source": [
    "# Run & plot\n",
    "circ.measure(q3, c3)\n",
    "result = backend.run(circ, shots=1024).result()\n",
    "st = result.get_counts()\n",
    "plot_histogram(st)"
   ]
  },
  {
   "cell_type": "markdown",
   "metadata": {},
   "source": [
    "L'exécution du circuit quantique, qui encode une chaîne de bits, nous donne en retour des informations sur le nombre de fois où chaque état spécifique a été mesuré. En se basant sur ces résultats, on peut recalculer la probabilité d’occurrence de chaque état, ce qui est représenté dans le graphique.\n",
    "\n",
    "En observant le graphique, on voit que l’état \\$\\left| 001 \\right\\rangle\\$ a été mesuré avec une probabilité d’environ 0,2. L’absence de l’état \\$\\left| 000 \\right\\rangle\\$ signifie qu’il n’a pas été observé. Cela confirme qu’à la position `00` dans la chaîne de bits, la valeur est `1`.\n",
    "\n",
    "Dans la réalité, des imperfections peuvent survenir. Ainsi, on peut utiliser les probabilités pour résoudre les ambiguïtés : si vous trouvez à la fois `000` et `001` dans vos résultats, acceptez l’état le plus probable et rejetez l’autre comme étant du bruit."
   ]
  },
  {
   "cell_type": "markdown",
   "metadata": {},
   "source": [
    "### Efficacité de la compression"
   ]
  },
  {
   "cell_type": "markdown",
   "metadata": {},
   "source": [
    "L'exemple avec une chaîne de bits de longueur quatre est utile pour une explication pas à pas, mais il ne montre pas réellement la puissance de l'informatique quantique. En augmentant la longueur de la chaîne de bits, l'avantage offert par l'effet de superposition devient beaucoup plus évident.\n"
   ]
  },
  {
   "cell_type": "code",
   "execution_count": 19,
   "metadata": {},
   "outputs": [
    {
     "name": "stdout",
     "output_type": "stream",
     "text": [
      "qubits 3, \t bits: 4\n",
      "qubits 4, \t bits: 8\n",
      "qubits 5, \t bits: 16\n",
      "qubits 6, \t bits: 32\n",
      "qubits 9, \t bits: 256\n",
      "qubits 11, \t bits: 1024\n",
      "qubits 21, \t bits: 1048576\n",
      "qubits 31, \t bits: 1073741824\n"
     ]
    }
   ],
   "source": [
    "for i in [4, 8, 16, 32, 256, 1024, 1024*1024, 1024*1024*1024]:\n",
    "    n = math.ceil(math.log2(i)) + 1\n",
    "    print(\"qubits %s, \\t bits: %s\" % (n, i))\n"
   ]
  },
  {
   "cell_type": "markdown",
   "metadata": {},
   "source": [
    "Il faut garder à l'esprit que cette compression a un coût. Il est nécessaire de répéter le processus de nombreuses fois pour pouvoir lire correctement la chaîne de bits. L’avantage se manifeste surtout lorsque l’objectif n’est pas de lire la chaîne, mais d’effectuer d’autres opérations sur les données encodées, comme par exemple la comparaison de chaînes — ce vers quoi tout cela tend."
   ]
  },
  {
   "cell_type": "markdown",
   "metadata": {},
   "source": [
    "## Inversion du circuit\n",
    "\n",
    "Nous pouvons utiliser la fonction `inverse()` pour inverser l'ordre des portes dans un circuit quantique. C'est comme exécuter le programme dans le sens inverse."
   ]
  },
  {
   "cell_type": "code",
   "execution_count": 21,
   "metadata": {},
   "outputs": [],
   "source": [
    "from qiskit import QuantumCircuit\n",
    "from qiskit.circuit import Instruction\n",
    "\n",
    "def manual_inverse_unitary_only(circuit: QuantumCircuit) -> QuantumCircuit:\n",
    "    # Create a new empty circuit with the same registers\n",
    "    inv_circ = QuantumCircuit(*circuit.qregs, *circuit.cregs)\n",
    "    \n",
    "    # Reverse iterate over instructions\n",
    "    for instr, qargs, cargs in reversed(circuit.data):\n",
    "        # Skip non-unitary instructions like reset or measure\n",
    "        if hasattr(instr, 'inverse'):\n",
    "            try:\n",
    "                inv_instr = instr.inverse()\n",
    "                inv_circ.append(inv_instr, qargs, cargs)\n",
    "            except Exception:\n",
    "                continue  # Skip instructions that can't be inverted\n",
    "        else:\n",
    "            continue  # Not invertible\n",
    "    \n",
    "    return inv_circ\n",
    "\n",
    "#Cellule désactivée, Qiskit avant 1.0\n",
    "#circ_inv = QuantumCircuit(q3, c3)\n",
    "#circ_inv.initialize([0, .5, .5, .0, .5, .0, .0, .5], q3).inverse()\n",
    "#print(circ_inv)"
   ]
  },
  {
   "cell_type": "code",
   "execution_count": 22,
   "metadata": {},
   "outputs": [
    {
     "name": "stdout",
     "output_type": "stream",
     "text": [
      "      ┌─────────────────────┐┌───┐┌──────────────────┐┌───┐┌─────────────────┐»\n",
      "q2_0: ┤ U(0,0.87673,5.4065) ├┤ X ├┤ U(-π/2,-π/2,π/2) ├┤ X ├┤ U(-π/2,-π/2,-π) ├»\n",
      "      └─────────────────────┘└─┬─┘└──────────────────┘└─┬─┘└─────────────────┘»\n",
      "q2_1: ─────────────────────────■────────────────────────┼─────────────────────»\n",
      "                                                        │    ┌─────────────┐  »\n",
      "q2_2: ──────────────────────────────────────────────────■────┤ U(-π/2,0,0) ├──»\n",
      "                                                             └─────────────┘  »\n",
      "c3: 3/════════════════════════════════════════════════════════════════════════»\n",
      "                                                                              »\n",
      "«      ┌───┐┌────────────────┐\n",
      "«q2_0: ┤ X ├┤ U(-π/2,π/2,2π) ├\n",
      "«      └─┬─┘└┬─────────────┬─┘\n",
      "«q2_1: ──■───┤ U(-π/2,0,0) ├──\n",
      "«            └─────────────┘  \n",
      "«q2_2: ───────────────────────\n",
      "«                             \n",
      "«c3: 3/═══════════════════════\n",
      "«                             \n"
     ]
    },
    {
     "name": "stderr",
     "output_type": "stream",
     "text": [
      "/tmp/ipykernel_1727/3101455538.py:9: DeprecationWarning: Treating CircuitInstruction as an iterable is deprecated legacy behavior since Qiskit 1.2, and will be removed in Qiskit 3.0. Instead, use the `operation`, `qubits` and `clbits` named attributes.\n",
      "  for instr, qargs, cargs in reversed(circuit.data):\n"
     ]
    }
   ],
   "source": [
    "\n",
    "decomposed_transpiled = transpile(circ, basis_gates=['u', 'cx'], optimization_level=0)\n",
    "inverted = manual_inverse_unitary_only(decomposed_transpiled)\n",
    "\n",
    "print(inverted.draw('text'))"
   ]
  },
  {
   "cell_type": "code",
   "execution_count": 23,
   "metadata": {},
   "outputs": [
    {
     "data": {
      "image/png": "[encoded data removed]",
      "text/plain": [
       "<Figure size 640x480 with 1 Axes>"
      ]
     },
     "execution_count": 23,
     "metadata": {},
     "output_type": "execute_result"
    }
   ],
   "source": [
    "inverted.measure_all()\n",
    "# Run & plot\n",
    "result = backend.run(inverted, shots=1024).result()\n",
    "st = result.get_counts()\n",
    "plot_histogram(st)"
   ]
  },
  {
   "cell_type": "markdown",
   "metadata": {},
   "source": [
    "Si nous exécutons le circuit inversé, nous constatons que nous n’obtenons ni la chaîne de bits inversée, ni sa version niée. En analysant les états mesurés, on observe que la chaîne de bits obtenue est `1111`.\n",
    "\n",
    "Voyons maintenant ce qui se passe si nous attachons (ou chaînons) ce circuit inversé au circuit original que nous avions utilisé pour initialiser la puce quantique."
   ]
  },
  {
   "cell_type": "code",
   "execution_count": 24,
   "metadata": {},
   "outputs": [
    {
     "name": "stderr",
     "output_type": "stream",
     "text": [
      "/tmp/ipykernel_1727/3101455538.py:9: DeprecationWarning: Treating CircuitInstruction as an iterable is deprecated legacy behavior since Qiskit 1.2, and will be removed in Qiskit 3.0. Instead, use the `operation`, `qubits` and `clbits` named attributes.\n",
      "  for instr, qargs, cargs in reversed(circuit.data):\n"
     ]
    },
    {
     "data": {
      "image/png": "[encoded data removed]",
      "text/plain": [
       "<Figure size 640x480 with 1 Axes>"
      ]
     },
     "execution_count": 24,
     "metadata": {},
     "output_type": "execute_result"
    }
   ],
   "source": [
    "circ = QuantumCircuit(q3, c3)\n",
    "circ.initialize([0, .5, .5, .0, .5, .0, .0, .5], q3)\n",
    "\n",
    "# Decompose for inverse calculation\n",
    "decomposed_transpiled = transpile(circ, basis_gates=['u', 'cx'], optimization_level=0)\n",
    "inverted = manual_inverse_unitary_only(decomposed_transpiled)\n",
    "\n",
    "# Concatenation\n",
    "circ_sum = QuantumCircuit(q3, c3)\n",
    "\n",
    "# Compose both circuits in sequence\n",
    "circ_sum.compose(circ, inplace=True)\n",
    "circ_sum.barrier()\n",
    "circ_sum.compose(inverted, inplace=True)\n",
    "\n",
    "# Run and plot\n",
    "circ_sum.measure(q3, c3)\n",
    "result = backend.run(circ_sum, shots=1024).result()\n",
    "st = job.result().get_counts()\n",
    "plot_histogram(st)"
   ]
  },
  {
   "cell_type": "markdown",
   "metadata": {},
   "source": [
    "Nous revenons à l’état initial de nos qubits. Cela confirme que les portes quantiques fonctionnent parfaitement. Si nous utilisons un circuit quantique pour transformer l’état initial en un état cible, puis que nous exécutons ce circuit en sens inverse, nous revenons à l’état initial."
   ]
  },
  {
   "cell_type": "markdown",
   "metadata": {},
   "source": [
    "## Tâche : Nous souhaitons inverser la chaîne de bits (c’est-à-dire inverser chaque bit). Pour cela, nous devons appliquer une *porte de Pauli-X* à tous les qubits."
   ]
  },
  {
   "cell_type": "code",
   "execution_count": 30,
   "metadata": {
    "scrolled": true
   },
   "outputs": [
    {
     "ename": "NameError",
     "evalue": "name '______' is not defined",
     "output_type": "error",
     "traceback": [
      "\u001b[0;31m---------------------------------------------------------------------------\u001b[0m",
      "\u001b[0;31mNameError\u001b[0m                                 Traceback (most recent call last)",
      "Cell \u001b[0;32mIn[30], line 1\u001b[0m\n\u001b[0;32m----> 1\u001b[0m circ \u001b[38;5;241m=\u001b[39m QuantumCircuit(\u001b[43m______\u001b[49m, ______)  \u001b[38;5;66;03m# Remplir avec les bons registres\u001b[39;00m\n\u001b[1;32m      3\u001b[0m \u001b[38;5;66;03m# Initialisation de l’état quantique [0, 0.5, 0.5, 0.0, 0.5, 0.0, 0.0, 0.5]\u001b[39;00m\n\u001b[1;32m      4\u001b[0m circ\u001b[38;5;241m.\u001b[39m___________(____, ___)  \u001b[38;5;66;03m# Compléter la méthode et les qubits\u001b[39;00m\n",
      "\u001b[0;31mNameError\u001b[0m: name '______' is not defined"
     ]
    }
   ],
   "source": [
    "\n",
    "\n",
    "circ = QuantumCircuit(______, ______)  # Remplir avec les bons registres\n",
    "\n",
    "# Initialisation de l’état quantique [0, 0.5, 0.5, 0.0, 0.5, 0.0, 0.0, 0.5]\n",
    "circ.___________(____, ___)  # Compléter la méthode et les qubits\n",
    "\n",
    "# Application d’une porte X (NOT) à tous les qubits\n",
    "circ.__(____)  # Compléter avec le nom de la porte et le registre\n",
    "\n",
    "# Ajout des mesures\n",
    "circ.________(___, ___)  # Mesure des qubits vers les bits classiques\n",
    "\n",
    "# Simulation du circuit\n",
    "result = backend.run(____, shots=____).result()\n",
    "\n",
    "# Récupération et affichage des résultats\n",
    "st = result.______________()  # Compléter pour obtenir les comptages\n",
    "___________(st)  # Compléter pour afficher l’histogramme"
   ]
  },
  {
   "cell_type": "markdown",
   "metadata": {},
   "source": [
    "## Tâche : décoder manuellement le mot à partir de l’histogramme (chaîne inversée)"
   ]
  },
  {
   "cell_type": "markdown",
   "metadata": {},
   "source": [
    "\\[Complétez cette cellule de markdown\\]\n",
    "\n",
    "Décodage de tous les bits à partir des probabilités :\n",
    "\n",
    "```\n",
    "   bs | aa v \n",
    "  ----|------- \n",
    "    0 | ?? ? \n",
    "    1 | ?? ? \n",
    "    1 | ?? ? \n",
    "    0 | ?? ?   \n",
    "```\n",
    "on obtient, la chaîne de bits _____.\n",
    "\n",
    "Est-ce le résultat attendu ?"
   ]
  },
  {
   "cell_type": "markdown",
   "metadata": {},
   "source": [
    "## Comparaison de chaînes binaires"
   ]
  },
  {
   "cell_type": "markdown",
   "metadata": {},
   "source": [
    "Comme cela a été dit plus haut, si nous inversons le circuit et que nous l'appliquons à l'état souhaité, alors nous reviendrons à l'état initial. Mais que se passe-t-il si nous utilisons l’inverse d’un autre circuit ? Nous ne devrions retrouver l’état initial qu'avec une certaine probabilité.  Nous pouvons utiliser ce fait pour comparer la similarité entre des chaînes de bits. Plus la probabilité de retour à l’état initial est élevée, plus les chaînes binaires sont similaires."
   ]
  },
  {
   "cell_type": "code",
   "execution_count": 154,
   "metadata": {},
   "outputs": [
    {
     "name": "stdout",
     "output_type": "stream",
     "text": [
      "Similarity (probability) with 1001:\n",
      "1000: 0.552734375\n",
      "0110: 0\n"
     ]
    },
    {
     "name": "stderr",
     "output_type": "stream",
     "text": [
      "/tmp/ipykernel_679/3093821200.py:3: DeprecationWarning: Treating CircuitInstruction as an iterable is deprecated legacy behavior since Qiskit 1.2, and will be removed in Qiskit 3.0. Instead, use the `operation`, `qubits` and `clbits` named attributes.\n",
      "  for instr, qargs, cargs in reversed(circuit.data):\n"
     ]
    },
    {
     "name": "stdout",
     "output_type": "stream",
     "text": [
      "1101: 0.5595703125\n",
      "0011: 0.25390625\n"
     ]
    }
   ],
   "source": [
    "circ = QuantumCircuit(q3, c3)\n",
    "circ.initialize([0, .5, .5, .0, .5, .0, .0, .5], q3)\n",
    "\n",
    "bs = {'1000': [.0, .5, .5, .0, .5, .0, .5, .0],\n",
    "      '0110': [.5, .0, .0, .5, .0, .5, .5, .0],\n",
    "      '1101': [.0, .5, .0, .5, .5, .0, .0, .5],\n",
    "      '0011': [.5, .0, .5, .0, .0, .5, .0, .5]}\n",
    "\n",
    "print(\"Similarity (probability) with 1001:\")\n",
    "for bitstr, ampl in bs.items():\n",
    "    \n",
    "    #circ_inv = QuantumCircuit(q3, c3)\n",
    "    #circ_inv.initialize(ampl, q3).inverse()\n",
    "    circ_temp = QuantumCircuit(q3, c3)\n",
    "    circ_temp.initialize(ampl, q3)\n",
    "    decomposed_transpiled = transpile(circ_temp, basis_gates=['u', 'cx'], optimization_level=0)\n",
    "    inverted = manual_inverse_unitary_only(decomposed_transpiled)\n",
    "    circ_sum = QuantumCircuit(q3, c3)\n",
    "    circ_sum.compose(circ, inplace=True)\n",
    "    circ_sum.barrier()\n",
    "    circ_sum.compose(inverted, inplace=True)\n",
    "    circ_sum.measure(q3, c3)\n",
    "    \n",
    "    result = backend.run(circ_sum, shots=1024).result()\n",
    "    st = result.get_counts()\n",
    "    p = st['000'] / 1024 if '000' in st.keys() else 0\n",
    "    print(\"%s: %s\" % (bitstr, p))"
   ]
  },
  {
   "cell_type": "markdown",
   "metadata": {},
   "source": [
    "Si tous les bits sont différents (`1001` contre `0110`), alors la similarité est de 0.\n",
    "S’il y a trois bits en commun, alors la probabilité est de \\$0.556\\$.\n",
    "S’il n’y a que deux bits identiques, on obtient une probabilité de \\$0.242\\$."
   ]
  },
  {
   "cell_type": "markdown",
   "metadata": {
    "jp-MarkdownHeadingCollapsed": true
   },
   "source": [
    "## Next steps pour la comparaison  : \n",
    "* encoder l'algorithme classique qui mesurera la distance de Hamming entre deux chaînes de caractères.\n",
    "* Lancer dans une boucle un nombre de fois élevé les deux algorithmes (classique et quantiques) et mesurer le temps de l'exécution.\n",
    "* Considérer les nombre de chaînes de caractères à encoder $N$ et démontrer que le traîtement classique aura la complexité de $O(N)$, le traîtement quantique — $O(\\sqrt N)$."
   ]
  },
  {
   "cell_type": "markdown",
   "metadata": {},
   "source": [
    "## Sources\n",
    "\n",
    "Ce tutoriel est inspiré par les tutoriels \"Comparing Strings with Quantum Superposition\" de Rudy Raymond et Łukasz Herok."
   ]
  },
  {
   "cell_type": "markdown",
   "metadata": {},
   "source": [
    "## References\n",
    "\n",
    "1. [Comparing Strings with Quantum Superpositon, Rudy Raymond](string_comparison.ipynb)\n",
    "2. [Qiskit’s documentation - Circuits and Registers](https://qiskit.org/documentation/terra/quantum_circuits.html)\n",
    "3. [Basic quantum circuit simulation in Python, Jarrod McClean](https://jarrodmcclean.com/basic-quantum-circuit-simulation-in-python/)\n",
    "4. [Wikipedia - Qubit](https://en.wikipedia.org/wiki/Qubit)\n",
    "5. [Wikipedia - Quantum logic gate](https://en.wikipedia.org/wiki/Quantum_logic_gate)"
   ]
  }
 ],
 "metadata": {
  "kernelspec": {
   "display_name": "Python 3 (ipykernel)",
   "language": "python",
   "name": "python3"
  },
  "language_info": {
   "codemirror_mode": {
    "name": "ipython",
    "version": 3
   },
   "file_extension": ".py",
   "mimetype": "text/x-python",
   "name": "python",
   "nbconvert_exporter": "python",
   "pygments_lexer": "ipython3",
   "version": "3.10.16"
  }
 },
 "nbformat": 4,
 "nbformat_minor": 4
}
