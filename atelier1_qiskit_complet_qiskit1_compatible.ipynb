{
 "cells": [
  {
   "cell_type": "markdown",
   "id": "d8b28473",
   "metadata": {},
   "source": [
    "# Atelier 1 : Introduction à la programmation quantique avec Qiskit (Qiskit 1.0+ compatible)"
   ]
  },
  {
   "cell_type": "code",
   "execution_count": null,
   "id": "3a2f1d0d",
   "metadata": {},
   "outputs": [],
   "source": [
    "# Importation des bibliothèques\n",
    "from qiskit import QuantumCircuit\n",
    "from qiskit_aer import AerSimulator\n",
    "from qiskit.visualization import plot_histogram\n",
    "import matplotlib.pyplot as plt"
   ]
  },
  {
   "cell_type": "markdown",
   "id": "208694b9",
   "metadata": {},
   "source": [
    "## Exemple 1 : Superposition avec une porte Hadamard"
   ]
  },
  {
   "cell_type": "code",
   "execution_count": null,
   "id": "0f454a9e",
   "metadata": {},
   "outputs": [],
   "source": [
    "qc = QuantumCircuit(1, 1)\n",
    "qc.h(0)\n",
    "qc.measure(0, 0)\n",
    "\n",
    "simulator = AerSimulator()\n",
    "compiled_circuit = simulator.compile(qc)\n",
    "result = simulator.run(compiled_circuit, shots=1000).result()\n",
    "counts = result.get_counts()\n",
    "print(\"Résultats de la mesure :\", counts)\n",
    "qc.draw('mpl')"
   ]
  },
  {
   "cell_type": "code",
   "execution_count": null,
   "id": "c551022a",
   "metadata": {},
   "outputs": [],
   "source": [
    "plot_histogram(counts)\n",
    "plt.show()"
   ]
  },
  {
   "cell_type": "markdown",
   "id": "9b2ee564",
   "metadata": {},
   "source": [
    "## Exemple 2 : Interférence (H → X → H)"
   ]
  },
  {
   "cell_type": "code",
   "execution_count": null,
   "id": "f3e08837",
   "metadata": {},
   "outputs": [],
   "source": [
    "qc = QuantumCircuit(1, 1)\n",
    "qc.h(0)\n",
    "qc.x(0)\n",
    "qc.h(0)\n",
    "qc.measure(0, 0)\n",
    "\n",
    "compiled_circuit = simulator.compile(qc)\n",
    "result = simulator.run(compiled_circuit, shots=1000).result()\n",
    "counts = result.get_counts()\n",
    "print(\"Interférence H-X-H :\", counts)\n",
    "qc.draw('mpl')"
   ]
  },
  {
   "cell_type": "code",
   "execution_count": null,
   "id": "9eda64f5",
   "metadata": {},
   "outputs": [],
   "source": [
    "plot_histogram(counts)\n",
    "plt.show()"
   ]
  },
  {
   "cell_type": "markdown",
   "id": "6ead0672",
   "metadata": {},
   "source": [
    "## Exemple 3 : Intrication quantique"
   ]
  },
  {
   "cell_type": "code",
   "execution_count": null,
   "id": "dee5c6d1",
   "metadata": {},
   "outputs": [],
   "source": [
    "qc = QuantumCircuit(2, 2)\n",
    "qc.h(0)\n",
    "qc.cx(0, 1)\n",
    "qc.measure([0, 1], [0, 1])\n",
    "\n",
    "compiled_circuit = simulator.compile(qc)\n",
    "result = simulator.run(compiled_circuit, shots=1000).result()\n",
    "counts = result.get_counts()\n",
    "print(\"Intrication :\", counts)\n",
    "qc.draw('mpl')"
   ]
  },
  {
   "cell_type": "code",
   "execution_count": null,
   "id": "e3d606be",
   "metadata": {},
   "outputs": [],
   "source": [
    "plot_histogram(counts)\n",
    "plt.show()"
   ]
  },
  {
   "cell_type": "code",
   "execution_count": null,
   "id": "41ba97a7",
   "metadata": {},
   "outputs": [],
   "source": [
    "# Définition des oracles Deutsch-Jozsa (n=1)\n",
    "def oracle_constant(qc, qubits, output_is_one=False):\n",
    "    if output_is_one:\n",
    "        qc.x(qubits[1])\n",
    "\n",
    "def oracle_balanced(qc, qubits):\n",
    "    qc.cx(qubits[0], qubits[1])"
   ]
  },
  {
   "cell_type": "markdown",
   "id": "fb02edfb",
   "metadata": {},
   "source": [
    "## Algorithme Deutsch–Jozsa (n=1) – Cas équilibré"
   ]
  },
  {
   "cell_type": "code",
   "execution_count": null,
   "id": "a3e54684",
   "metadata": {},
   "outputs": [],
   "source": [
    "qc = QuantumCircuit(2, 1)\n",
    "qc.x(1)\n",
    "qc.h(1)\n",
    "qc.h(0)\n",
    "oracle_balanced(qc, [0, 1])\n",
    "qc.h(0)\n",
    "qc.measure(0, 0)\n",
    "\n",
    "compiled_circuit = simulator.compile(qc)\n",
    "result = simulator.run(compiled_circuit, shots=1000).result()\n",
    "counts = result.get_counts()\n",
    "print(\"Deutsch–Jozsa (équilibrée) :\", counts)\n",
    "qc.draw('mpl')"
   ]
  },
  {
   "cell_type": "code",
   "execution_count": null,
   "id": "c69519f4",
   "metadata": {},
   "outputs": [],
   "source": [
    "plot_histogram(counts)\n",
    "plt.show()"
   ]
  },
  {
   "cell_type": "markdown",
   "id": "dabb9320",
   "metadata": {},
   "source": [
    "## Algorithme Deutsch–Jozsa (n=1) – Cas constant"
   ]
  },
  {
   "cell_type": "code",
   "execution_count": null,
   "id": "33448b49",
   "metadata": {},
   "outputs": [],
   "source": [
    "qc = QuantumCircuit(2, 1)\n",
    "qc.x(1)\n",
    "qc.h(1)\n",
    "qc.h(0)\n",
    "oracle_constant(qc, [0, 1], output_is_one=False)\n",
    "qc.h(0)\n",
    "qc.measure(0, 0)\n",
    "\n",
    "compiled_circuit = simulator.compile(qc)\n",
    "result = simulator.run(compiled_circuit, shots=1000).result()\n",
    "counts = result.get_counts()\n",
    "print(\"Deutsch–Jozsa (constante) :\", counts)\n",
    "qc.draw('mpl')"
   ]
  },
  {
   "cell_type": "code",
   "execution_count": null,
   "id": "4203f3fb",
   "metadata": {},
   "outputs": [],
   "source": [
    "plot_histogram(counts)\n",
    "plt.show()"
   ]
  }
 ],
 "metadata": {},
 "nbformat": 4,
 "nbformat_minor": 5
}
