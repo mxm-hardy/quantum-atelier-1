{
 "cells": [
  {
   "cell_type": "markdown",
   "id": "5d585c35",
   "metadata": {},
   "source": [
    "# Atelier 1 : Introduction à la programmation quantique avec Qiskit"
   ]
  },
  {
   "cell_type": "code",
   "execution_count": null,
   "id": "5f3be74e",
   "metadata": {},
   "outputs": [],
   "source": [
    "# Importation des bibliothèques\n",
    "from qiskit import QuantumCircuit, Aer, execute\n",
    "from qiskit.visualization import plot_histogram, plot_bloch_vector, plot_bloch_multivector\n",
    "from qiskit.quantum_info import Statevector\n",
    "import matplotlib.pyplot as plt"
   ]
  },
  {
   "cell_type": "markdown",
   "id": "5ec29222",
   "metadata": {},
   "source": [
    "## Exemple 1 : Créer un circuit avec superposition"
   ]
  },
  {
   "cell_type": "code",
   "execution_count": null,
   "id": "13ace1ba",
   "metadata": {},
   "outputs": [],
   "source": [
    "# Crée un circuit avec 1 qubit et 1 bit classique\n",
    "qc = QuantumCircuit(1, 1)\n",
    "qc.h(0)\n",
    "qc.measure(0, 0)\n",
    "\n",
    "# Exécute le circuit sur simulateur\n",
    "simulator = Aer.get_backend('qasm_simulator')\n",
    "result = execute(qc, simulator, shots=1000).result()\n",
    "counts = result.get_counts()\n",
    "\n",
    "# Affiche les résultats\n",
    "print(\"Résultats de la mesure :\", counts)\n",
    "qc.draw('mpl')"
   ]
  },
  {
   "cell_type": "code",
   "execution_count": null,
   "id": "7c781905",
   "metadata": {},
   "outputs": [],
   "source": [
    "plot_histogram(counts)\n",
    "plt.show()"
   ]
  },
  {
   "cell_type": "markdown",
   "id": "1be39cc2",
   "metadata": {},
   "source": [
    "## Exemple 2 : Interférence (H → X → H)"
   ]
  },
  {
   "cell_type": "code",
   "execution_count": null,
   "id": "41702c21",
   "metadata": {},
   "outputs": [],
   "source": [
    "qc = QuantumCircuit(1, 1)\n",
    "qc.h(0)\n",
    "qc.x(0)\n",
    "qc.h(0)\n",
    "qc.measure(0, 0)\n",
    "\n",
    "result = execute(qc, simulator, shots=1000).result()\n",
    "counts = result.get_counts()\n",
    "print(\"Interférence H-X-H :\", counts)\n",
    "qc.draw('mpl')"
   ]
  },
  {
   "cell_type": "code",
   "execution_count": null,
   "id": "57efce97",
   "metadata": {},
   "outputs": [],
   "source": [
    "plot_histogram(counts)\n",
    "plt.show()"
   ]
  },
  {
   "cell_type": "markdown",
   "id": "b7ef5102",
   "metadata": {},
   "source": [
    "## Exemple 3 : Intrication quantique"
   ]
  },
  {
   "cell_type": "code",
   "execution_count": null,
   "id": "a556d8a0",
   "metadata": {},
   "outputs": [],
   "source": [
    "qc = QuantumCircuit(2, 2)\n",
    "qc.h(0)\n",
    "qc.cx(0, 1)\n",
    "qc.measure([0, 1], [0, 1])\n",
    "\n",
    "result = execute(qc, simulator, shots=1000).result()\n",
    "counts = result.get_counts()\n",
    "print(\"Intrication :\", counts)\n",
    "qc.draw('mpl')"
   ]
  },
  {
   "cell_type": "code",
   "execution_count": null,
   "id": "c8a383fe",
   "metadata": {},
   "outputs": [],
   "source": [
    "plot_histogram(counts)\n",
    "plt.show()"
   ]
  },
  {
   "cell_type": "markdown",
   "id": "1bb9410b",
   "metadata": {},
   "source": [
    "## Algorithme Deutsch–Jozsa (n = 1)"
   ]
  },
  {
   "cell_type": "code",
   "execution_count": null,
   "id": "2eea61d9",
   "metadata": {},
   "outputs": [],
   "source": [
    "def oracle_constant(qc, qubits, output_is_one=False):\n",
    "    if output_is_one:\n",
    "        qc.x(qubits[1])  # f(x) = 1\n",
    "\n",
    "def oracle_balanced(qc, qubits):\n",
    "    qc.cx(qubits[0], qubits[1])  # f(x) = x"
   ]
  },
  {
   "cell_type": "code",
   "execution_count": null,
   "id": "cefeaeb0",
   "metadata": {},
   "outputs": [],
   "source": [
    "qc = QuantumCircuit(2, 1)\n",
    "\n",
    "# Initialisation\n",
    "qc.x(1)\n",
    "qc.h(1)\n",
    "qc.h(0)\n",
    "\n",
    "# Oracle (équilibrée)\n",
    "oracle_balanced(qc, [0, 1])\n",
    "\n",
    "# Hadamard final\n",
    "qc.h(0)\n",
    "qc.measure(0, 0)\n",
    "\n",
    "# Exécution\n",
    "result = execute(qc, simulator, shots=1000).result()\n",
    "counts = result.get_counts()\n",
    "print(\"Résultat Deutsch–Jozsa (n=1, équilibrée) :\", counts)\n",
    "qc.draw('mpl')"
   ]
  },
  {
   "cell_type": "code",
   "execution_count": null,
   "id": "807f7d4e",
   "metadata": {},
   "outputs": [],
   "source": [
    "plot_histogram(counts)\n",
    "plt.show()"
   ]
  },
  {
   "cell_type": "code",
   "execution_count": null,
   "id": "e526c351",
   "metadata": {},
   "outputs": [],
   "source": [
    "# Test avec oracle constant\n",
    "qc = QuantumCircuit(2, 1)\n",
    "qc.x(1)\n",
    "qc.h(1)\n",
    "qc.h(0)\n",
    "oracle_constant(qc, [0, 1], output_is_one=False)\n",
    "qc.h(0)\n",
    "qc.measure(0, 0)\n",
    "result = execute(qc, simulator, shots=1000).result()\n",
    "counts = result.get_counts()\n",
    "print(\"Résultat Deutsch–Jozsa (n=1, constante) :\", counts)\n",
    "qc.draw('mpl')"
   ]
  },
  {
   "cell_type": "code",
   "execution_count": null,
   "id": "c30599da",
   "metadata": {},
   "outputs": [],
   "source": [
    "plot_histogram(counts)\n",
    "plt.show()"
   ]
  }
 ],
 "metadata": {},
 "nbformat": 4,
 "nbformat_minor": 5
}
