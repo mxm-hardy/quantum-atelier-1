{
 "cells": [
  {
   "cell_type": "markdown",
   "id": "c421871c-430f-4443-b166-4eb65a9795a4",
   "metadata": {},
   "source": [
    "# Diffuseur (Répéteur) dans l’algorithme de Grover\n",
    "**Crédit Agricole : Ateliers Quantiques 2025**  \n",
    "**Atelier 3 — Partie 2**\n",
    "\n",
    "---\n",
    "\n",
    "## Motivation\n",
    "\n",
    "Dans la première partie, nous avons vu comment **un oracle** peut inverser la phase d’un état marqué.  \n",
    "Mais cet oracle seul n’est pas suffisant. Pour faire ressortir l’état marqué à la mesure, nous devons amplifier sa probabilité.  \n",
    "\n",
    "C’est ici qu’intervient le **diffuseur** (aussi appelé répéteur ou opérateur d’inversion par rapport à la moyenne).  \n",
    "\n",
    "Il agit en deux étapes :\n",
    "1. Il inverse toutes les amplitudes autour de leur moyenne.  \n",
    "2. L’amplitude de l’état marqué (qui a été inversée par l’oracle) devient plus grande que les autres, qui diminuent.  \n",
    "\n",
    "Après plusieurs itérations **oracle + diffuseur**, la probabilité de l’état marqué tend vers 1.\n",
    "\n",
    "---\n",
    "\n",
    "## Mathématiques\n",
    "\n",
    "Soit un état en superposition uniforme sur $N$ états :\n",
    "\n",
    "$$\n",
    "|\\psi\\rangle = \\frac{1}{\\sqrt{N}} \\sum_{x=0}^{N-1} |x\\rangle\n",
    "$$\n",
    "\n",
    "L’oracle applique une phase $-1$ à l’état solution $|w\\rangle$.  \n",
    "Ensuite, le diffuseur applique la transformation :\n",
    "\n",
    "$$\n",
    "D = 2|\\psi\\rangle\\langle\\psi| - I\n",
    "$$\n",
    "\n",
    "C’est une **réflexion** autour du vecteur uniforme $|\\psi\\rangle$.  \n",
    "\n",
    "Concrètement :\n",
    "- Les amplitudes supérieures à la moyenne sont diminuées,  \n",
    "- Les amplitudes inférieures à la moyenne (notamment celle de l’état marqué après oracle) sont amplifiées.  \n",
    "\n",
    "---\n",
    "\n"
   ]
  },
  {
   "cell_type": "code",
   "execution_count": 1,
   "id": "f922250f-8789-4a3a-87c5-f13b4d4b3891",
   "metadata": {},
   "outputs": [],
   "source": [
    "from qiskit import QuantumCircuit, QuantumRegister, ClassicalRegister\n",
    "from qiskit_aer import AerSimulator\n",
    "import numpy as np\n",
    "\n",
    "backend = AerSimulator()\n"
   ]
  },
  {
   "cell_type": "markdown",
   "id": "ff5fd80a-6072-4529-8346-a789998c9c11",
   "metadata": {},
   "source": [
    "## Superposition initiale\n",
    "\n",
    "Commençons par préparer une superposition uniforme sur **2 qubits**.  \n",
    "Chaque état $|00⟩, |01⟩, |10⟩, |11⟩$ aura la même amplitude $0.5$.\n"
   ]
  },
  {
   "cell_type": "code",
   "execution_count": 2,
   "id": "f03ce726-c7f0-4e60-8d9d-ea5af58c2e38",
   "metadata": {},
   "outputs": [
    {
     "name": "stdout",
     "output_type": "stream",
     "text": [
      "Amplitudes après superposition :\n",
      "|00⟩ : (0.5+0j)\n",
      "|01⟩ : (0.5+0j)\n",
      "|10⟩ : (0.5+0j)\n",
      "|11⟩ : (0.5+0j)\n"
     ]
    },
    {
     "name": "stderr",
     "output_type": "stream",
     "text": [
      "/tmp/ipykernel_1958/3292616323.py:12: DeprecationWarning: The return type of saved statevectors has been changed from a `numpy.ndarray` to a `qiskit.quantum_info.Statevector` as of qiskit-aer 0.10. Accessing numpy array attributes is deprecated and will result in an error in a future release. To continue using saved result objects as arrays you can explicitly cast them using  `np.asarray(object)`.\n",
      "  for i, amp in enumerate(psi):\n"
     ]
    }
   ],
   "source": [
    "q = QuantumRegister(2, \"q\")\n",
    "c = ClassicalRegister(2, \"c\")\n",
    "circ = QuantumCircuit(q, c)\n",
    "\n",
    "circ.h(q)  # Superposition uniforme\n",
    "circ.save_statevector()\n",
    "\n",
    "result = backend.run(circ).result()\n",
    "psi = result.get_statevector(circ)\n",
    "\n",
    "print(\"Amplitudes après superposition :\")\n",
    "for i, amp in enumerate(psi):\n",
    "    print(f\"|{i:02b}⟩ : {np.round(amp,3)}\")\n"
   ]
  },
  {
   "cell_type": "markdown",
   "id": "9faf9bd5-bc62-4156-964a-05555dcead22",
   "metadata": {},
   "source": [
    "## Étape 1 : Oracle\n",
    "\n",
    "Nous choisissons de marquer l’état $|11⟩$.  \n",
    "L’oracle applique une phase $-1$ uniquement à cet état.\n"
   ]
  },
  {
   "cell_type": "code",
   "execution_count": 4,
   "id": "0d27af14-96ca-4f9f-bc68-aa22e4a49730",
   "metadata": {},
   "outputs": [
    {
     "name": "stdout",
     "output_type": "stream",
     "text": [
      "Amplitudes après oracle (|11⟩ inversé) :\n",
      "|00⟩ : (0.5+0j)\n",
      "|01⟩ : (0.5+0j)\n",
      "|10⟩ : (0.5+0j)\n",
      "|11⟩ : (-0.5+0j)\n"
     ]
    },
    {
     "name": "stderr",
     "output_type": "stream",
     "text": [
      "/tmp/ipykernel_1958/2657316164.py:12: DeprecationWarning: The return type of saved statevectors has been changed from a `numpy.ndarray` to a `qiskit.quantum_info.Statevector` as of qiskit-aer 0.10. Accessing numpy array attributes is deprecated and will result in an error in a future release. To continue using saved result objects as arrays you can explicitly cast them using  `np.asarray(object)`.\n",
      "  for i, amp in enumerate(psi_oracle):\n"
     ]
    }
   ],
   "source": [
    "oracle = QuantumCircuit(2)\n",
    "oracle.cz(0,1)\n",
    "\n",
    "circ_oracle = QuantumCircuit(q, c)\n",
    "circ_oracle.h(q)\n",
    "circ_oracle.compose(oracle, inplace=True)\n",
    "circ_oracle.save_statevector()\n",
    "\n",
    "psi_oracle = backend.run(circ_oracle).result().get_statevector(circ_oracle)\n",
    "\n",
    "print(\"Amplitudes après oracle (|11⟩ inversé) :\")\n",
    "for i, amp in enumerate(psi_oracle):\n",
    "    print(f\"|{i:02b}⟩ : {np.round(amp,3)}\")\n"
   ]
  },
  {
   "cell_type": "markdown",
   "id": "970c3f79-acb2-44d9-8370-7daca071694f",
   "metadata": {
    "collapsed": true,
    "jupyter": {
     "outputs_hidden": true
    }
   },
   "source": [
    "## Étape 2 : Diffuseur (Répéteur)\n",
    "\n",
    "Le diffuseur applique l’opération :\n",
    "\n",
    "$$\n",
    "D = 2|\\psi\\rangle\\langle\\psi| - I\n",
    "$$\n",
    "\n",
    "C’est une **réflexion autour de la moyenne des amplitudes**.\n",
    "\n",
    "## Structure du diffuseur (cas $n=2$ qubits)\n",
    "\n",
    "Pour 2 qubits, la structure est la suivante :  \n",
    "\n",
    "1. Appliquer une porte Hadamard (H) sur chaque qubit, pour passer en base uniforme.  \n",
    "2. Appliquer une porte Z sur chaque qubit.  \n",
    "3. Appliquer une porte CZ (contrôlée) qui ajoute une phase $-1$ sur $|11\\rangle$.  \n",
    "4. Repasser en base computationnelle avec des portes Hadamard.  \n",
    "\n",
    "Schéma :  \n",
    "\n",
    "H ─Z─■─ H\n",
    "\n",
    "     |\n",
    "\n",
    "H ─Z── H\n",
    "\n",
    "## Exemple simple (2 qubits, une itération)\n",
    "\n",
    "Nous allons construire pas à pas :\n",
    "1. Une superposition uniforme  \n",
    "2. Un oracle qui marque l’état $|11\\rangle$  \n",
    "3. Le diffuseur qui amplifie cet état  \n",
    "\n",
    "Puis nous vérifierons numériquement que les amplitudes évoluent comme prévu."
   ]
  },
  {
   "cell_type": "code",
   "execution_count": 7,
   "id": "a076bdee-7719-4eee-bb06-d615d7a405fa",
   "metadata": {},
   "outputs": [
    {
     "name": "stdout",
     "output_type": "stream",
     "text": [
      "Amplitudes après oracle + diffuseur :\n",
      "|00⟩ : -0j\n",
      "|01⟩ : 0j\n",
      "|10⟩ : 0j\n",
      "|11⟩ : (1-0j)\n"
     ]
    },
    {
     "name": "stderr",
     "output_type": "stream",
     "text": [
      "/tmp/ipykernel_1958/1972759873.py:16: DeprecationWarning: The return type of saved statevectors has been changed from a `numpy.ndarray` to a `qiskit.quantum_info.Statevector` as of qiskit-aer 0.10. Accessing numpy array attributes is deprecated and will result in an error in a future release. To continue using saved result objects as arrays you can explicitly cast them using  `np.asarray(object)`.\n",
      "  for i, amp in enumerate(psi_full):\n"
     ]
    }
   ],
   "source": [
    "diffuser = QuantumCircuit(2)\n",
    "diffuser.h([0,1])\n",
    "diffuser.z([0,1])\n",
    "diffuser.cz(0,1)\n",
    "diffuser.h([0,1])\n",
    "\n",
    "circ_full = QuantumCircuit(q, c)\n",
    "circ_full.h(q)             # Superposition\n",
    "circ_full.compose(oracle, inplace=True)   # Oracle\n",
    "circ_full.compose(diffuser, inplace=True) # Diffuseur\n",
    "circ_full.save_statevector()\n",
    "\n",
    "psi_full = backend.run(circ_full).result().get_statevector(circ_full)\n",
    "\n",
    "print(\"Amplitudes après oracle + diffuseur :\")\n",
    "for i, amp in enumerate(psi_full):\n",
    "    print(f\"|{i:02b}⟩ : {np.round(amp,3)}\")\n"
   ]
  },
  {
   "cell_type": "markdown",
   "id": "3066c8d5-2784-4526-b456-0978587bf757",
   "metadata": {},
   "source": [
    "## Analyse pas à pas\n",
    "\n",
    "1. **Après la superposition** :  \n",
    "Chaque état a une amplitude $+0.5$.  \n",
    "La **moyenne des amplitudes** vaut :  \n",
    "\n",
    "$$\n",
    "\\mu = \\frac{0.5 + 0.5 + 0.5 + 0.5}{4} = 0.5\n",
    "$$  \n",
    "\n",
    "Tous les états sont au même niveau.\n",
    "\n",
    "---\n",
    "\n",
    "2. **Après l’oracle** :  \n",
    "L’état $|11⟩$ est inversé en $-0.5$.  \n",
    "Les amplitudes sont alors :  \n",
    "\n",
    "- $|00⟩ : 0.5$  \n",
    "- $|01⟩ : 0.5$  \n",
    "- $|10⟩ : 0.5$  \n",
    "- $|11⟩ : -0.5$  \n",
    "\n",
    "La moyenne devient :  \n",
    "\n",
    "$$\n",
    "\\mu = \\frac{0.5 + 0.5 + 0.5 - 0.5}{4} = 0.25\n",
    "$$\n",
    "\n",
    "---\n",
    "\n",
    "3. **Après le diffuseur** :  \n",
    "Le diffuseur applique la réflexion autour de la moyenne :  \n",
    "\n",
    "$$\n",
    "a_i' = 2\\mu - a_i\n",
    "$$  \n",
    "\n",
    "- Pour les états non marqués ($a_i = 0.5$) :  \n",
    "  $a_i' = 2 \\cdot 0.25 - 0.5 = 0$  \n",
    "\n",
    "- Pour l’état marqué ($a_{11} = -0.5$) :  \n",
    "  $a_{11}' = 2 \\cdot 0.25 - (-0.5) = 1.0$  \n",
    "\n",
    "On obtient :  \n",
    "\n",
    "- $|00⟩ : 0$  \n",
    "- $|01⟩ : 0$  \n",
    "- $|10⟩ : 0$  \n",
    "- $|11⟩ : 1.0$  \n",
    "\n",
    "---\n",
    "\n",
    "## Résultat attendu\n",
    "\n",
    "- Tous les états non marqués sont annulés (ou presque, si le système est plus grand).  \n",
    "- L’état marqué $|11⟩$ est amplifié jusqu’à amplitude $1$ (probabilité $100\\%$).  \n",
    "\n",
    "C’est ce mécanisme de **réflexion autour de la moyenne des amplitudes** qui permet à l’algorithme de Grover de concentrer toute la probabilité sur la solution.\n"
   ]
  },
  {
   "cell_type": "markdown",
   "id": "e0d655f4-bbf5-42b8-ab96-5cb045aebcde",
   "metadata": {},
   "source": [
    "## 📝 Exercice : Grover à 2 qubits (solution |01⟩)\n",
    "\n",
    "Nous voulons appliquer **une seule itération de Grover** sur un système de 2 qubits.  \n",
    "L’état marqué est **|01⟩** (c’est-à-dire que **q0=1, q1=0**).  \n",
    "\n",
    "⚠️ Attention : dans Qiskit, l’ordre des registres est inversé à l’affichage.  \n",
    "Ainsi, l’état théorique |01⟩ sera affiché sous la forme **\"10\"** dans les résultats (`get_counts`).\n",
    "\n",
    "### Objectifs\n",
    "\n",
    "1. Construire la superposition uniforme.  \n",
    "2. Implémenter un **oracle** qui marque l’état |01⟩ (par inversion de phase).  \n",
    "3. Implémenter le **diffuseur**.  \n",
    "4. Afficher les **probabilités** :\n",
    "   - Avant l’oracle\n",
    "   - Après l’oracle\n",
    "   - Après le diffuseur\n",
    "5. Afficher aussi les **vecteurs d’état complets** (amplitudes) pour comparer les effets.\n",
    "\n",
    "Complétez les `____` dans le code ci-dessous pour réaliser l’expérience."
   ]
  },
  {
   "cell_type": "code",
   "execution_count": 4,
   "id": "6f47c987-fdf0-4148-83c8-ea7796f99f0a",
   "metadata": {},
   "outputs": [
    {
     "name": "stdout",
     "output_type": "stream",
     "text": [
      "1) Probabilités avant oracle : {'00': np.float64(0.25), '01': np.float64(0.25), '10': np.float64(0.25), '11': np.float64(0.25)}\n",
      "2) Probabilités après oracle : {'00': np.float64(0.25), '01': np.float64(0.25), '10': np.float64(0.25), '11': np.float64(0.25)}\n",
      "3) Probabilités après diffuseur : {'00': np.float64(0.0), '01': np.float64(0.0), '10': np.float64(1.0), '11': np.float64(0.0)}\n",
      "4) Vecteurs (amplitudes) :\n",
      "   Avant : [0.5+0.j 0.5+0.j 0.5+0.j 0.5+0.j]\n",
      "   Oracle: [ 0.5-0.j  0.5+0.j -0.5+0.j  0.5-0.j]\n",
      "   Final : [-0.+0.j -0.-0.j -1.+0.j  0.-0.j]\n"
     ]
    },
    {
     "name": "stderr",
     "output_type": "stream",
     "text": [
      "/tmp/ipykernel_105/2148655720.py:53: DeprecationWarning: The return type of saved statevectors has been changed from a `numpy.ndarray` to a `qiskit.quantum_info.Statevector` as of qiskit-aer 0.10. Accessing numpy array attributes is deprecated and will result in an error in a future release. To continue using saved result objects as arrays you can explicitly cast them using  `np.asarray(object)`.\n",
      "  return {f\"{i:02b}\": round(abs(amp)**2,3) for i,amp in enumerate(psi)}\n"
     ]
    }
   ],
   "source": [
    "from qiskit import QuantumCircuit, QuantumRegister, ClassicalRegister\n",
    "from qiskit_aer import AerSimulator\n",
    "import numpy as np\n",
    "\n",
    "# --- Backends\n",
    "sv_backend = AerSimulator(method=\"statevector\")\n",
    "\n",
    "# --- Registres\n",
    "q = QuantumRegister(2, \"q\")\n",
    "c = ClassicalRegister(2, \"c\")\n",
    "\n",
    "# --- 1) Superposition uniforme\n",
    "circ = QuantumCircuit(q, c)\n",
    "circ.h([0,1])\n",
    "\n",
    "# Sauvegarder état avant oracle\n",
    "circ.save_statevector(\"psi_before\")\n",
    "result = sv_backend.run(circ).result()\n",
    "psi_before = result.data(0)[\"psi_before\"]\n",
    "\n",
    "# --- 2) Oracle : marquer |01⟩\n",
    "oracle = QuantumCircuit(q)\n",
    "\n",
    "# Complétez les étapes suivantes pour construire l'oracle\n",
    "# (astuce : on doit inverser la phase de |01⟩ uniquement)\n",
    "\n",
    "oracle.___([0])       # Étape 1 : appliquer X sur le qubit q[0]\n",
    "oracle.___([1])       # Étape 2 : appliquer H sur le qubit q[1]\n",
    "oracle.___([0,1])     # Étape 3 : appliquer CX avec q[0] comme contrôle et q[1] comme cible\n",
    "oracle.___([1])       # Étape 4 : appliquer H sur le qubit q[1]\n",
    "oracle.___([0])       # Étape 5 : appliquer X sur le qubit q[0]\n",
    "\n",
    "circ_oracle = circ.compose(oracle)\n",
    "\n",
    "circ_oracle.save_statevector(\"psi_oracle\")\n",
    "result = sv_backend.run(circ_oracle).result()\n",
    "psi_oracle = result.data(0)[\"psi_oracle\"]\n",
    "\n",
    "# --- 3) Diffuseur\n",
    "diff = QuantumCircuit(q)\n",
    "diff.h([0,1])\n",
    "diff.x([0,1])\n",
    "diff.h(1)\n",
    "diff.cx(0,1)\n",
    "diff.h(1)\n",
    "diff.x([0,1])\n",
    "diff.h([0,1])\n",
    "\n",
    "circ_final = circ_oracle.compose(diff)\n",
    "\n",
    "circ_final.save_statevector(\"psi_final\")\n",
    "result = sv_backend.run(circ_final).result()\n",
    "psi_final = result.data(0)[\"psi_final\"]\n",
    "\n",
    "# --- Fonctions utilitaires\n",
    "def probs(psi):\n",
    "    return {f\"{i:02b}\": round(abs(amp)**2,3) for i,amp in enumerate(psi)}\n",
    "\n",
    "# --- 4 outputs\n",
    "print(\"1) Probabilités avant oracle :\", probs(psi_before))\n",
    "print(\"2) Probabilités après oracle :\", probs(psi_oracle))\n",
    "print(\"3) Probabilités après diffuseur :\", probs(psi_final))\n",
    "print(\"4) Vecteurs (amplitudes) :\")\n",
    "print(\"   Avant :\", np.round(psi_before,3))\n",
    "print(\"   Oracle:\", np.round(psi_oracle,3))\n",
    "print(\"   Final :\", np.round(psi_final,3))\n"
   ]
  },
  {
   "cell_type": "markdown",
   "id": "1908515f-e8ec-4486-af67-751130ecea53",
   "metadata": {},
   "source": []
  },
  {
   "cell_type": "markdown",
   "id": "e6686463-b466-418c-9f86-14dda603c003",
   "metadata": {},
   "source": [
    "# Algorithme de Grover : Cas de 4 qubits avec 2 solutions\n",
    "\n",
    "Dans ce tutoriel, nous allons appliquer **Grover** sur un système de 4 qubits ($N=16$ états).  \n",
    "Deux états sont marqués par l’oracle (par exemple $|1010⟩$ et $|1111⟩$).  \n",
    "\n",
    "Nous allons observer **itérativement** comment les amplitudes évoluent :  \n",
    "- initialement réparties uniformément,  \n",
    "- l’oracle inverse le signe des états marqués,  \n",
    "- le diffuseur amplifie leurs amplitudes,  \n",
    "- et la probabilité de mesurer une solution croît à chaque itération.\n"
   ]
  },
  {
   "cell_type": "code",
   "execution_count": 7,
   "id": "0698aea4-a012-4d44-aeeb-cb9a2f8d56a7",
   "metadata": {},
   "outputs": [
    {
     "data": {
      "text/plain": [
       "<qiskit.circuit.instructionset.InstructionSet at 0x774e922001c0>"
      ]
     },
     "execution_count": 7,
     "metadata": {},
     "output_type": "execute_result"
    }
   ],
   "source": [
    "from qiskit import QuantumCircuit, transpile\n",
    "from qiskit_aer import AerSimulator\n",
    "from qiskit.visualization import plot_histogram\n",
    "import numpy as np\n",
    "\n",
    "# --- Backend\n",
    "backend = AerSimulator(method=\"statevector\")\n",
    "\n",
    "# --- Paramètres\n",
    "n = 4   # 4 qubits → 16 états\n",
    "marked_states = [\"1010\", \"1111\"]  # états solution\n",
    "\n",
    "# --- Circuit initial (superposition uniforme)\n",
    "circ = QuantumCircuit(n)\n",
    "circ.h(range(n))\n"
   ]
  },
  {
   "cell_type": "markdown",
   "id": "a14c609a-3a01-4423-9071-da056815817d",
   "metadata": {},
   "source": [
    "## 1. Superposition initiale\n",
    "\n",
    "Après application de Hadamard sur chaque qubit,  \n",
    "tous les $2^4 = 16$ états ont la même amplitude :\n",
    "\n",
    "$$\n",
    "a_i = \\frac{1}{\\sqrt{16}} = 0.25\n",
    "$$\n",
    "\n",
    "Chaque état a une probabilité de $6.25\\%$.\n"
   ]
  },
  {
   "cell_type": "code",
   "execution_count": 9,
   "id": "d8833b0e-cc84-472d-b87c-30f0aef0af35",
   "metadata": {},
   "outputs": [
    {
     "name": "stdout",
     "output_type": "stream",
     "text": [
      "Amplitudes initiales (superposition uniforme) :\n",
      "|0000⟩ : (0.25+0j)\n",
      "|0001⟩ : (0.25+0j)\n",
      "|0010⟩ : (0.25+0j)\n",
      "|0011⟩ : (0.25+0j)\n",
      "|0100⟩ : (0.25+0j)\n",
      "|0101⟩ : (0.25+0j)\n",
      "|0110⟩ : (0.25+0j)\n",
      "|0111⟩ : (0.25+0j)\n",
      "|1000⟩ : (0.25+0j)\n",
      "|1001⟩ : (0.25+0j)\n",
      "|1010⟩ : (0.25+0j)\n",
      "|1011⟩ : (0.25+0j)\n",
      "|1100⟩ : (0.25+0j)\n",
      "|1101⟩ : (0.25+0j)\n",
      "|1110⟩ : (0.25+0j)\n",
      "|1111⟩ : (0.25+0j)\n"
     ]
    },
    {
     "name": "stderr",
     "output_type": "stream",
     "text": [
      "/tmp/ipykernel_105/2807894606.py:6: DeprecationWarning: The return type of saved statevectors has been changed from a `numpy.ndarray` to a `qiskit.quantum_info.Statevector` as of qiskit-aer 0.10. Accessing numpy array attributes is deprecated and will result in an error in a future release. To continue using saved result objects as arrays you can explicitly cast them using  `np.asarray(object)`.\n",
      "  for i, amp in enumerate(psi0):\n"
     ]
    }
   ],
   "source": [
    "# Sauvegarde du vecteur d'état initial\n",
    "circ.save_statevector()\n",
    "psi0 = backend.run(circ).result().get_statevector()\n",
    "\n",
    "print(\"Amplitudes initiales (superposition uniforme) :\")\n",
    "for i, amp in enumerate(psi0):\n",
    "    if abs(amp) > 1e-6:\n",
    "        print(f\"|{i:04b}⟩ : {np.round(amp, 3)}\")\n"
   ]
  },
  {
   "cell_type": "markdown",
   "id": "5486130f-38c9-4a1d-bd8c-3dc54cfd16cb",
   "metadata": {},
   "source": [
    "## 2. Construction de l’oracle\n",
    "\n",
    "L’oracle multiplie par -1 l’amplitude des états marqués :  \n",
    "\n",
    "- $|1010⟩ \\to -a_{1010}$  \n",
    "- $|1111⟩ \\to -a_{1111}$  \n",
    "\n",
    "Tous les autres états restent inchangés.\n"
   ]
  },
  {
   "cell_type": "code",
   "execution_count": 12,
   "id": "5f0facaf-0037-4481-b299-7683448f500c",
   "metadata": {},
   "outputs": [
    {
     "name": "stdout",
     "output_type": "stream",
     "text": [
      "\n",
      "Amplitudes après oracle :\n",
      "|0000⟩ : (0.25+0j)\n",
      "|0001⟩ : (0.25+0j)\n",
      "|0010⟩ : (0.25+0j)\n",
      "|0011⟩ : (0.25+0j)\n",
      "|0100⟩ : (0.25+0j)\n",
      "|0101⟩ : (0.25+0j)\n",
      "|0110⟩ : (0.25+0j)\n",
      "|0111⟩ : (0.25+0j)\n",
      "|1000⟩ : (0.25+0j)\n",
      "|1001⟩ : (0.25+0j)\n",
      "|1010⟩ : (-0.25+0j)\n",
      "|1011⟩ : (0.25+0j)\n",
      "|1100⟩ : (0.25+0j)\n",
      "|1101⟩ : (0.25+0j)\n",
      "|1110⟩ : (0.25+0j)\n",
      "|1111⟩ : (-0.25+0j)\n"
     ]
    }
   ],
   "source": [
    "from qiskit.quantum_info import Statevector\n",
    "\n",
    "# Fonction pour appliquer l'oracle sur un vecteur d'état (mutable avec numpy)\n",
    "def apply_oracle(statevector, marked):\n",
    "    # conversion en numpy array\n",
    "    new_sv = np.array(statevector, dtype=complex)\n",
    "    for m in marked:\n",
    "        idx = int(m, 2)\n",
    "        new_sv[idx] *= -1\n",
    "    return Statevector(new_sv)\n",
    "\n",
    "# Test sur état uniforme\n",
    "psi_oracle = apply_oracle(psi0, marked_states)\n",
    "\n",
    "print(\"\\nAmplitudes après oracle :\")\n",
    "for i, amp in enumerate(psi_oracle):\n",
    "    if abs(amp) > 1e-6:\n",
    "        print(f\"|{i:04b}⟩ : {np.round(amp, 3)}\")\n"
   ]
  },
  {
   "cell_type": "markdown",
   "id": "90c815f3-1e4a-44a8-9901-efe96252163d",
   "metadata": {},
   "source": [
    "## 3. Le diffuseur (répétiteur)\n",
    "\n",
    "Le diffuseur applique la réflexion autour de la moyenne :\n",
    "\n",
    "$$\n",
    "a_i' = 2\\mu - a_i, \\quad \n",
    "\\mu = \\frac{1}{N}\\sum_{j=0}^{N-1} a_j\n",
    "$$\n",
    "\n",
    "- Les amplitudes des états non marqués diminuent légèrement,  \n",
    "- Les amplitudes des états marqués augmentent.\n",
    "\n",
    "Ainsi, à chaque itération, la probabilité des solutions augmente.\n"
   ]
  },
  {
   "cell_type": "code",
   "execution_count": 15,
   "id": "73c6cdfb-00e0-4452-8ff2-d42362929762",
   "metadata": {},
   "outputs": [
    {
     "name": "stdout",
     "output_type": "stream",
     "text": [
      "\n",
      "Amplitudes après 1 itération de Grover :\n",
      "|0000⟩ : (0.125+0j)\n",
      "|0001⟩ : (0.125+0j)\n",
      "|0010⟩ : (0.125+0j)\n",
      "|0011⟩ : (0.125+0j)\n",
      "|0100⟩ : (0.125+0j)\n",
      "|0101⟩ : (0.125+0j)\n",
      "|0110⟩ : (0.125+0j)\n",
      "|0111⟩ : (0.125+0j)\n",
      "|1000⟩ : (0.125+0j)\n",
      "|1001⟩ : (0.125+0j)\n",
      "|1010⟩ : (0.625+0j)\n",
      "|1011⟩ : (0.125+0j)\n",
      "|1100⟩ : (0.125+0j)\n",
      "|1101⟩ : (0.125+0j)\n",
      "|1110⟩ : (0.125+0j)\n",
      "|1111⟩ : (0.625+0j)\n"
     ]
    }
   ],
   "source": [
    "def apply_diffuser(statevector):\n",
    "    sv = np.array(statevector, dtype=complex)\n",
    "    mu = np.mean(sv)\n",
    "    new_sv = 2*mu - sv\n",
    "    return Statevector(new_sv)\n",
    "\n",
    "\n",
    "# Test : une itération complète (oracle + diffuseur)\n",
    "psi1 = apply_diffuser(apply_oracle(psi0, marked_states))\n",
    "\n",
    "print(\"\\nAmplitudes après 1 itération de Grover :\")\n",
    "for i, amp in enumerate(psi1):\n",
    "    if abs(amp) > 1e-6:\n",
    "        print(f\"|{i:04b}⟩ : {np.round(amp, 3)}\")\n"
   ]
  },
  {
   "cell_type": "markdown",
   "id": "b5691843-7e78-4671-a018-1b52e5a5a76d",
   "metadata": {},
   "source": [
    "## 4. Évolution itérative\n",
    "\n",
    "Nous allons maintenant appliquer **plusieurs itérations** et tracer la\n",
    "probabilité cumulée de mesurer un **état marqué**.\n",
    "\n",
    "Théoriquement, pour $N=16$ et $M=2$ solutions,  \n",
    "le nombre optimal d’itérations est environ :\n",
    "\n",
    "$$\n",
    "k \\approx \\frac{\\pi}{4}\\sqrt{\\frac{N}{M}} \\approx 3\n",
    "$$\n"
   ]
  },
  {
   "cell_type": "code",
   "execution_count": 16,
   "id": "93ace244-2ad4-48c2-91e1-a16bafdfaabf",
   "metadata": {},
   "outputs": [
    {
     "data": {
      "image/png": "[encoded data removed]",
      "text/plain": [
       "<Figure size 640x480 with 1 Axes>"
      ]
     },
     "metadata": {},
     "output_type": "display_data"
    }
   ],
   "source": [
    "import matplotlib.pyplot as plt\n",
    "\n",
    "def prob_marked(statevector, marked):\n",
    "    return sum(abs(statevector[int(m,2)])**2 for m in marked)\n",
    "\n",
    "psi = psi0\n",
    "probs = [prob_marked(psi, marked_states)]\n",
    "\n",
    "# Appliquer 6 itérations\n",
    "for _ in range(6):\n",
    "    psi = apply_diffuser(apply_oracle(psi, marked_states))\n",
    "    probs.append(prob_marked(psi, marked_states))\n",
    "\n",
    "# Tracer\n",
    "plt.plot(range(len(probs)), probs, marker=\"o\")\n",
    "plt.xlabel(\"Itérations de Grover\")\n",
    "plt.ylabel(\"Probabilité de trouver une solution\")\n",
    "plt.title(\"Amplification d’amplitude (N=16, M=2)\")\n",
    "plt.grid(True)\n",
    "plt.show()\n"
   ]
  },
  {
   "cell_type": "markdown",
   "id": "a05dfbb6-e9ef-4d29-a836-569ff5b71db3",
   "metadata": {},
   "source": [
    "## Résultat attendu\n",
    "\n",
    "- Au départ, la probabilité de tomber sur un état solution est $2/16 = 12.5\\%$.  \n",
    "- Après 1 itération : ~40%.  \n",
    "- Après 2 itérations : ~75%.  \n",
    "- Après 3 itérations : >90%.  \n",
    "\n",
    "On voit donc comment **les solutions sont amplifiées itérativement**  \n",
    "tandis que les états non marqués disparaissent progressivement.\n",
    "\n",
    "C’est le cœur de l’algorithme de Grover :  \n",
    "**répéter juste assez de fois pour concentrer toute la probabilité sur les solutions.**\n"
   ]
  },
  {
   "cell_type": "code",
   "execution_count": 18,
   "id": "48fd2a20-b90a-45c6-bff5-bbd6e496eff6",
   "metadata": {},
   "outputs": [
    {
     "data": {
      "image/png": "[encoded data removed]",
      "text/plain": [
       "<Figure size 1200x1000 with 4 Axes>"
      ]
     },
     "metadata": {},
     "output_type": "display_data"
    }
   ],
   "source": [
    "# Re-imports après reset\n",
    "import numpy as np\n",
    "import matplotlib.pyplot as plt\n",
    "\n",
    "# --- Fonctions utilitaires ---\n",
    "def apply_oracle(statevector, marked):\n",
    "    \"\"\"Applique l'oracle : change le signe des amplitudes des états marqués.\"\"\"\n",
    "    new_sv = np.array(statevector, dtype=complex)\n",
    "    for m in marked:\n",
    "        idx = int(m, 2)\n",
    "        new_sv[idx] *= -1\n",
    "    return new_sv\n",
    "\n",
    "def apply_diffuser(statevector):\n",
    "    \"\"\"Applique le diffuseur : inversion par rapport à la moyenne.\"\"\"\n",
    "    mu = np.mean(statevector)\n",
    "    return 2 * mu - statevector\n",
    "\n",
    "# --- Initialisation : superposition uniforme sur 4 qubits ---\n",
    "n = 4\n",
    "psi0 = np.ones(2**n) / np.sqrt(2**n)\n",
    "\n",
    "# États marqués\n",
    "marked_states = [\"1010\", \"1111\"]\n",
    "\n",
    "# Fonction pour exécuter k itérations de Grover\n",
    "def grover_iterations(initial_state, marked, k):\n",
    "    state = np.array(initial_state, dtype=complex)\n",
    "    for _ in range(k):\n",
    "        state = apply_oracle(state, marked)\n",
    "        state = apply_diffuser(state)\n",
    "    return state\n",
    "\n",
    "# Préparer les amplitudes après 0,1,2,3 itérations\n",
    "states_over_time = [grover_iterations(psi0, marked_states, k) for k in range(4)]\n",
    "\n",
    "# Tracer les probabilités pour chaque itération\n",
    "fig, axes = plt.subplots(4, 1, figsize=(12, 10), sharex=True)\n",
    "\n",
    "for k, state in enumerate(states_over_time):\n",
    "    probs = np.abs(state) ** 2\n",
    "    axes[k].bar(range(len(probs)), probs)\n",
    "    axes[k].set_ylabel(f\"Itération {k}\")\n",
    "    axes[k].set_ylim(0, 1)\n",
    "\n",
    "axes[-1].set_xticks(range(16))\n",
    "axes[-1].set_xticklabels([f\"|{i:04b}⟩\" for i in range(16)], rotation=90)\n",
    "plt.suptitle(\"Évolution des probabilités après k itérations de Grover (4 qubits, 2 solutions)\")\n",
    "plt.tight_layout()\n",
    "plt.show()\n"
   ]
  },
  {
   "cell_type": "code",
   "execution_count": null,
   "id": "f5ea402d-5b5e-4375-b6eb-5f2e76cfc953",
   "metadata": {},
   "outputs": [],
   "source": []
  }
 ],
 "metadata": {
  "kernelspec": {
   "display_name": "Python 3 (ipykernel)",
   "language": "python",
   "name": "python3"
  },
  "language_info": {
   "codemirror_mode": {
    "name": "ipython",
    "version": 3
   },
   "file_extension": ".py",
   "mimetype": "text/x-python",
   "name": "python",
   "nbconvert_exporter": "python",
   "pygments_lexer": "ipython3",
   "version": "3.10.16"
  }
 },
 "nbformat": 4,
 "nbformat_minor": 5
}
