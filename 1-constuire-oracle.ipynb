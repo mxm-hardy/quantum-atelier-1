{
 "cells": [
  {
   "cell_type": "markdown",
   "id": "7c179b83-69db-404c-98eb-e412be9f8a80",
   "metadata": {},
   "source": [
    "# Création d'un Oracle\n",
    "**Crédit Agricole : Ateliers Quantiques 2025**  \n",
    "**Atelier 3 — Partie 1.**\n",
    "\n",
    "---\n",
    "\n",
    "## Motivation\n",
    "\n",
    "L’objectif de ce tutoriel est de montrer comment construire un **oracle quantique**.  \n",
    "Un oracle est une opération unitaire $U_f$ qui agit ainsi :\n",
    "\n",
    "$$\n",
    "U_f \\,|x⟩ = (-1)^{f(x)} |x⟩\n",
    "$$\n",
    "\n",
    "où $f(x)$ est une fonction de décision qui vaut 1 uniquement pour l’état solution.  \n",
    "Cela signifie que **l’état cible change de signe** (phase -1), tandis que les autres restent inchangés (+1).\n",
    "\n",
    "Nous allons vérifier ce phénomène explicitement en observant le vecteur d’état.\n"
   ]
  },
  {
   "cell_type": "code",
   "execution_count": 2,
   "id": "281bbf73-a16b-4556-9d48-b2ccfa96e93e",
   "metadata": {},
   "outputs": [],
   "source": [
    "from qiskit import QuantumCircuit, QuantumRegister\n",
    "from qiskit_aer import AerSimulator\n",
    "import numpy as np\n",
    "\n",
    "# --- Backend\n",
    "backend = AerSimulator(method='statevector')\n"
   ]
  },
  {
   "cell_type": "markdown",
   "id": "e758869e-3d85-40a4-af70-759c57ff6938",
   "metadata": {},
   "source": [
    "## Représentation d’un état quantique\n",
    "\n",
    "Pour $n$ qubits, on a $2^n$ états de base.  \n",
    "Par exemple, avec $n=2$ qubits :\n",
    "\n",
    "- |00⟩\n",
    "- |01⟩\n",
    "- |10⟩\n",
    "- |11⟩\n",
    "\n",
    "Nous allons préparer une **superposition uniforme** sur ces 4 états, puis appliquer un oracle qui marque un état choisi (par exemple |11⟩).\n"
   ]
  },
  {
   "cell_type": "code",
   "execution_count": 3,
   "id": "8e26cd9e-db26-4ad6-a9df-f389808f8f74",
   "metadata": {},
   "outputs": [
    {
     "data": {
      "image/png": "[encoded data removed]",
      "text/plain": [
       "<Figure size 305.323x200.667 with 1 Axes>"
      ]
     },
     "execution_count": 3,
     "metadata": {},
     "output_type": "execute_result"
    }
   ],
   "source": [
    "# --- Nombre de qubits\n",
    "n = 2\n",
    "\n",
    "# --- Registre quantique\n",
    "qreg = QuantumRegister(n)\n",
    "circ = QuantumCircuit(qreg)\n",
    "\n",
    "# Préparer la superposition uniforme avec H sur chaque qubit\n",
    "circ.h(qreg)\n",
    "\n",
    "# Sauvegarder l'état initial\n",
    "circ.save_statevector(label=\"psi0\")\n",
    "\n",
    "circ.draw(\"mpl\")\n"
   ]
  },
  {
   "cell_type": "markdown",
   "id": "e7579023-b2d1-4e0c-9d55-f5c83308a5a8",
   "metadata": {},
   "source": [
    "## Construction de l’oracle\n",
    "\n",
    "Nous choisissons comme état cible $|11⟩$.  \n",
    "\n",
    "Pour le marquer, on peut appliquer une porte `CZ` (controlled-Z) qui applique une phase -1 uniquement quand les deux qubits valent 1.  \n",
    "\n",
    "Cela correspond exactement à notre fonction :\n",
    "$$\n",
    "f(x) = \\begin{cases} \n",
    "1 & \\text{si } x = 11 \\\\ \n",
    "0 & \\text{sinon} \n",
    "\\end{cases}\n",
    "$$\n"
   ]
  },
  {
   "cell_type": "code",
   "execution_count": 4,
   "id": "e41b6134-eb32-470c-9e42-fa2a51f67c22",
   "metadata": {},
   "outputs": [
    {
     "data": {
      "image/png": "[encoded data removed]",
      "text/plain": [
       "<Figure size 203.683x200.667 with 1 Axes>"
      ]
     },
     "execution_count": 4,
     "metadata": {},
     "output_type": "execute_result"
    }
   ],
   "source": [
    "oracle = QuantumCircuit(n, name=\"Oracle\")\n",
    "oracle.cz(0, 1)   # Marque l'état |11⟩\n",
    "oracle.draw(\"mpl\")\n"
   ]
  },
  {
   "cell_type": "markdown",
   "id": "46e9a2d6-4795-4681-94a2-f0c95275b4de",
   "metadata": {},
   "source": [
    "## Application de l’oracle et vérification des amplitudes\n",
    "\n",
    "Nous ajoutons l’oracle au circuit, puis examinons le vecteur d’état avant et après.  \n",
    "Nous devons observer que **l’amplitude de |11⟩ a changé de signe**.\n"
   ]
  },
  {
   "cell_type": "code",
   "execution_count": 5,
   "id": "91f3656c-3cae-4267-88bc-61a56ca3495e",
   "metadata": {},
   "outputs": [
    {
     "name": "stdout",
     "output_type": "stream",
     "text": [
      "État initial : Statevector([0.5+0.j, 0.5+0.j, 0.5+0.j, 0.5+0.j],\n",
      "            dims=(2, 2))\n",
      "État après oracle : Statevector([ 0.5+0.j,  0.5+0.j,  0.5+0.j, -0.5+0.j],\n",
      "            dims=(2, 2))\n"
     ]
    }
   ],
   "source": [
    "# Circuit complet\n",
    "circ_oracle = circ.compose(oracle)\n",
    "\n",
    "# Sauvegarder l'état final\n",
    "circ_oracle.save_statevector(label=\"psi1\")\n",
    "\n",
    "# Simulation\n",
    "result = backend.run(circ_oracle).result()\n",
    "states = result.data()\n",
    "\n",
    "psi0 = states[\"psi0\"]\n",
    "psi1 = states[\"psi1\"]\n",
    "\n",
    "print(\"État initial :\", psi0)\n",
    "print(\"État après oracle :\", psi1)\n"
   ]
  },
  {
   "cell_type": "markdown",
   "id": "f9043ae8-d502-4c79-b48b-6badc7f35547",
   "metadata": {},
   "source": [
    "## Analyse des résultats\n",
    "\n",
    "Dans le vecteur d’état initial (superposition uniforme), chaque état a la même amplitude $1/\\sqrt{2^n}$.\n",
    "\n",
    "Après application de l’oracle :\n",
    "\n",
    "- Les amplitudes de |00⟩, |01⟩ et |10⟩ restent inchangées (+1).  \n",
    "- L’amplitude de |11⟩ est multipliée par -1.  \n",
    "\n",
    "C’est exactement le comportement attendu : l’oracle agit comme un **sélecteur de phase**.\n"
   ]
  },
  {
   "cell_type": "markdown",
   "id": "9ae8ad53-63d8-44fa-9475-860386f70973",
   "metadata": {},
   "source": [
    "---\n",
    "\n",
    "## Exercice : Construction d’un oracle sur 3 qubits\n",
    "\n",
    "### Énoncé\n",
    "\n",
    "Nous allons maintenant généraliser à **3 qubits**.  \n",
    "On prépare une superposition uniforme sur les 8 états de base :  \n",
    "\n",
    "$$\n",
    "|ψ⟩ = \\frac{1}{\\sqrt{8}} \\sum_{x=0}^{7} |x⟩\n",
    "$$\n",
    "\n",
    "Puis nous voulons construire un oracle qui **marque l’état |101⟩** (c’est-à-dire l’état numéro 5 en binaire).  \n",
    "\n",
    "### Tâches\n",
    "\n",
    "1. Créer un registre quantique de 3 qubits.  \n",
    "2. Préparer une superposition uniforme avec des portes Hadamard.  \n",
    "3. Construire un oracle qui applique une phase $-1$ uniquement à l’état |101⟩.  \n",
    "4. Vérifier, en affichant le vecteur d’état et un histogramme, que seule l’amplitude de |101⟩ a changé de signe.  \n",
    "\n",
    "### À compléter\n",
    "\n",
    "Complétez les parties marquées `____`.\n"
   ]
  },
  {
   "cell_type": "code",
   "execution_count": null,
   "id": "97087037-b5e1-4cea-aae9-c8106ca5ba09",
   "metadata": {},
   "outputs": [],
   "source": [
    "from qiskit import QuantumCircuit, QuantumRegister, ClassicalRegister\n",
    "from qiskit_aer import AerSimulator\n",
    "import numpy as np\n",
    "\n",
    "# --- Backend\n",
    "backend = AerSimulator()\n",
    "\n",
    "# --- Registres\n",
    "qreg3 = QuantumRegister(3, \"q\")\n",
    "creg3 = ClassicalRegister(3, \"c\")\n",
    "circ3 = QuantumCircuit(qreg3, creg3)\n",
    "\n",
    "# 1. Préparer la superposition uniforme sur 3 qubits\n",
    "circ3.___([0, 1, 2])   # (indice : porte de Hadamard)\n",
    "\n",
    "# 2. Construction de l’oracle pour marquer |101⟩\n",
    "oracle3 = QuantumCircuit(3)\n",
    "\n",
    "# Étape 1 : forcer q1 = 0\n",
    "oracle3.___(1)         # (indice : porte X)\n",
    "\n",
    "# Étape 2 : appliquer un contrôle contrôlé sur q0 et q1 vers q2\n",
    "oracle3.___(2)         # (indice : mettre q2 en base |+⟩ / |−⟩)\n",
    "oracle3.___(0, 1, 2)   # (indice : porte Toffoli)\n",
    "oracle3.___(2)         # (indice : revenir en base computational)\n",
    "\n",
    "# Étape 3 : remettre q1 à sa valeur initiale\n",
    "oracle3.___(1)\n",
    "\n",
    "# 3. Composer l’oracle avec le circuit principal\n",
    "circ3.___(oracle3, inplace=True)\n",
    "\n",
    "# Sauvegarder le vecteur d’état\n",
    "circ3.___()\n",
    "\n",
    "# Simulation\n",
    "result3 = backend.run(circ3).result()\n",
    "psi3 = result3.___(circ3)\n",
    "\n",
    "print(\"Vecteur d'état après oracle (à vérifier) :\")\n",
    "for i, amp in enumerate(psi3):\n",
    "    if abs(amp) > 1e-6:\n",
    "        print(f\"|{i:03b}⟩ : {np.round(amp, 3)}\")\n"
   ]
  },
  {
   "cell_type": "markdown",
   "id": "9f3f54dc-4ab1-4648-bfb4-3c823aa54ac7",
   "metadata": {},
   "source": [
    "### Vérification\n",
    "\n",
    "Exécutons maintenant la simulation et affichons :  \n",
    "1. le vecteur d’état (amplitudes),  \n",
    "2. un histogramme après mesure.\n"
   ]
  },
  {
   "cell_type": "code",
   "execution_count": 20,
   "id": "50a57c29-79fa-4b70-8807-d2766e0503ad",
   "metadata": {},
   "outputs": [
    {
     "data": {
      "image/png": "[encoded data removed]",
      "text/plain": [
       "<Figure size 640x480 with 1 Axes>"
      ]
     },
     "execution_count": 20,
     "metadata": {},
     "output_type": "execute_result"
    }
   ],
   "source": [
    "circ3.measure(qreg3, creg3)\n",
    "result3_meas = backend.run(circ3, shots=1024).result()\n",
    "counts3 = result3_meas.get_counts()\n",
    "\n",
    "from qiskit.visualization import plot_histogram\n",
    "plot_histogram(counts3)\n"
   ]
  },
  {
   "cell_type": "code",
   "execution_count": null,
   "id": "2dcf2838-d965-4620-8ba5-628bd1257d62",
   "metadata": {},
   "outputs": [],
   "source": []
  }
 ],
 "metadata": {
  "kernelspec": {
   "display_name": "Python 3 (ipykernel)",
   "language": "python",
   "name": "python3"
  },
  "language_info": {
   "codemirror_mode": {
    "name": "ipython",
    "version": 3
   },
   "file_extension": ".py",
   "mimetype": "text/x-python",
   "name": "python",
   "nbconvert_exporter": "python",
   "pygments_lexer": "ipython3",
   "version": "3.10.16"
  }
 },
 "nbformat": 4,
 "nbformat_minor": 5
}
